{
 "cells": [
  {
   "cell_type": "code",
   "execution_count": 1,
   "id": "2f3ace52-e31f-40c6-bd4d-05f2cc7bccda",
   "metadata": {},
   "outputs": [
    {
     "name": "stdout",
     "output_type": "stream",
     "text": [
      "Downloading https://github.com/ultralytics/assets/releases/download/v8.2.0/sam_b.pt to 'sam_b.pt'...\n"
     ]
    },
    {
     "name": "stderr",
     "output_type": "stream",
     "text": [
      "100%|████████████████████████████████████████████████████████████████████████████████████████████████████████████████████████████████████████████████| 358M/358M [00:32<00:00, 11.7MB/s]\n"
     ]
    },
    {
     "name": "stdout",
     "output_type": "stream",
     "text": [
      "Model summary: 238 layers, 93735472 parameters, 93735472 gradients\n",
      "\n",
      "image 1/1 /home/calcio/cardboard_yolo/cartone_edit_rot.png: 1024x1024 1 0, 1 1, 1 2, 1 3, 1 4, 1 5, 1 6, 1 7, 1 8, 1 9, 1 10, 1 11, 1 12, 1 13, 1 14, 1 15, 1 16, 1 17, 1 18, 1 19, 1 20, 1 21, 1 22, 1 23, 1 24, 1 25, 1 26, 1 27, 1 28, 1 29, 1 30, 1 31, 1 32, 1 33, 3066.4ms\n",
      "Speed: 8.2ms preprocess, 3066.4ms inference, 0.6ms postprocess per image at shape (1, 3, 1024, 1024)\n"
     ]
    },
    {
     "data": {
      "text/plain": [
       "[ultralytics.engine.results.Results object with attributes:\n",
       " \n",
       " boxes: ultralytics.engine.results.Boxes object\n",
       " keypoints: None\n",
       " masks: ultralytics.engine.results.Masks object\n",
       " names: {0: '0', 1: '1', 2: '2', 3: '3', 4: '4', 5: '5', 6: '6', 7: '7', 8: '8', 9: '9', 10: '10', 11: '11', 12: '12', 13: '13', 14: '14', 15: '15', 16: '16', 17: '17', 18: '18', 19: '19', 20: '20', 21: '21', 22: '22', 23: '23', 24: '24', 25: '25', 26: '26', 27: '27', 28: '28', 29: '29', 30: '30', 31: '31', 32: '32', 33: '33'}\n",
       " obb: None\n",
       " orig_img: array([[[0, 0, 0],\n",
       "         [0, 0, 0],\n",
       "         [0, 0, 0],\n",
       "         ...,\n",
       "         [0, 0, 0],\n",
       "         [0, 0, 0],\n",
       "         [0, 0, 0]],\n",
       " \n",
       "        [[0, 0, 0],\n",
       "         [0, 0, 0],\n",
       "         [0, 0, 0],\n",
       "         ...,\n",
       "         [0, 0, 0],\n",
       "         [0, 0, 0],\n",
       "         [0, 0, 0]],\n",
       " \n",
       "        [[0, 0, 0],\n",
       "         [0, 0, 0],\n",
       "         [0, 0, 0],\n",
       "         ...,\n",
       "         [0, 0, 0],\n",
       "         [0, 0, 0],\n",
       "         [0, 0, 0]],\n",
       " \n",
       "        ...,\n",
       " \n",
       "        [[0, 0, 0],\n",
       "         [0, 0, 0],\n",
       "         [0, 0, 0],\n",
       "         ...,\n",
       "         [0, 0, 0],\n",
       "         [0, 0, 0],\n",
       "         [0, 0, 0]],\n",
       " \n",
       "        [[0, 0, 0],\n",
       "         [0, 0, 0],\n",
       "         [0, 0, 0],\n",
       "         ...,\n",
       "         [0, 0, 0],\n",
       "         [0, 0, 0],\n",
       "         [0, 0, 0]],\n",
       " \n",
       "        [[0, 0, 0],\n",
       "         [0, 0, 0],\n",
       "         [0, 0, 0],\n",
       "         ...,\n",
       "         [0, 0, 0],\n",
       "         [0, 0, 0],\n",
       "         [0, 0, 0]]], dtype=uint8)\n",
       " orig_shape: (640, 640)\n",
       " path: '/home/calcio/cardboard_yolo/cartone_edit_rot.png'\n",
       " probs: None\n",
       " save_dir: 'runs/segment/predict'\n",
       " speed: {'preprocess': 8.169412612915039, 'inference': 3066.3700103759766, 'postprocess': 0.5934238433837891}]"
      ]
     },
     "execution_count": 1,
     "metadata": {},
     "output_type": "execute_result"
    }
   ],
   "source": [
    "from ultralytics import SAM\n",
    "\n",
    "# Load a model\n",
    "model = SAM(\"sam_b.pt\")\n",
    "\n",
    "# Display model information (optional)\n",
    "model.info()\n",
    "\n",
    "# Run inference\n",
    "model(\"/home/calcio/cardboard_yolo/cartone_edit_rot.png\")"
   ]
  },
  {
   "cell_type": "code",
   "execution_count": 8,
   "id": "f98155de-532d-4c11-a13b-e0cccce13c7c",
   "metadata": {},
   "outputs": [
    {
     "name": "stdout",
     "output_type": "stream",
     "text": [
      "\n",
      "image 1/1 /home/calcio/cardboard_yolo/cartone_edit_rot.png: 1024x1024 1 0, 1 1, 1 2, 1 3, 1 4, 1 5, 1 6, 1 7, 1 8, 1 9, 1 10, 1 11, 1 12, 1 13, 1 14, 1 15, 1 16, 1 17, 1 18, 1 19, 1 20, 1 21, 1 22, 1 23, 1 24, 1 25, 1 26, 1 27, 1 28, 1 29, 1 30, 1 31, 1 32, 1 33, 1681.0ms\n",
      "Speed: 11.7ms preprocess, 1681.0ms inference, 0.6ms postprocess per image at shape (1, 3, 1024, 1024)\n"
     ]
    }
   ],
   "source": [
    "res = model(\"/home/calcio/cardboard_yolo/cartone_edit_rot.png\")"
   ]
  },
  {
   "cell_type": "code",
   "execution_count": 9,
   "id": "e74c2c74-009c-4144-a2bd-7366e96fa176",
   "metadata": {},
   "outputs": [
    {
     "name": "stderr",
     "output_type": "stream",
     "text": [
      "/home/calcio/snap/code/common/.cache/gio-modules/libgiolibproxy.so: undefined symbol: g_task_set_name\n",
      "Failed to load module: /home/calcio/snap/code/common/.cache/gio-modules/libgiolibproxy.so\n",
      "/home/calcio/snap/code/common/.cache/gio-modules/libgiognomeproxy.so: undefined symbol: g_task_set_name\n",
      "Failed to load module: /home/calcio/snap/code/common/.cache/gio-modules/libgiognomeproxy.so\n",
      "/home/calcio/snap/code/common/.cache/gio-modules/libgiognutls.so: undefined symbol: g_task_set_name\n",
      "Failed to load module: /home/calcio/snap/code/common/.cache/gio-modules/libgiognutls.so\n",
      "/home/calcio/snap/code/common/.cache/gio-modules/libgiolibproxy.so: undefined symbol: g_task_set_name\n",
      "Failed to load module: /home/calcio/snap/code/common/.cache/gio-modules/libgiolibproxy.so\n",
      "/home/calcio/snap/code/common/.cache/gio-modules/libgiognomeproxy.so: undefined symbol: g_task_set_name\n",
      "Failed to load module: /home/calcio/snap/code/common/.cache/gio-modules/libgiognomeproxy.so\n",
      "/home/calcio/snap/code/common/.cache/gio-modules/libgiognutls.so: undefined symbol: g_task_set_name\n",
      "Failed to load module: /home/calcio/snap/code/common/.cache/gio-modules/libgiognutls.so\n"
     ]
    }
   ],
   "source": [
    "from PIL import Image\n",
    "im_array = res[0].plot()\n",
    "im = Image.fromarray(im_array[..., ::-1])\n",
    "im.show()"
   ]
  }
 ],
 "metadata": {
  "kernelspec": {
   "display_name": "Python 3 (ipykernel)",
   "language": "python",
   "name": "python3"
  },
  "language_info": {
   "codemirror_mode": {
    "name": "ipython",
    "version": 3
   },
   "file_extension": ".py",
   "mimetype": "text/x-python",
   "name": "python",
   "nbconvert_exporter": "python",
   "pygments_lexer": "ipython3",
   "version": "3.10.14"
  }
 },
 "nbformat": 4,
 "nbformat_minor": 5
}
