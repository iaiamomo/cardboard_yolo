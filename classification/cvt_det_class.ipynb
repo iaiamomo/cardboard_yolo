{
 "cells": [
  {
   "cell_type": "code",
   "execution_count": 2,
   "id": "9762a6cf-aad8-4c6c-bbf1-d765ca3e0259",
   "metadata": {},
   "outputs": [],
   "source": [
    "%load_ext autoreload\n",
    "%autoreload 2\n",
    "\n",
    "import os\n",
    "import cv2\n",
    "import time\n",
    "import glob\n",
    "import pickle\n",
    "import shutil\n",
    "import requests\n",
    "import numpy as np\n",
    "from datetime import datetime, timedelta\n",
    "from dateutil import tz\n",
    "import matplotlib.pyplot as plt\n",
    "\n",
    "fold_class = 0\n",
    "hole_class = 1\n",
    "data_d = \"hole_fold.v1i.yolov5pythorch\"\n",
    "data_c = \"data_classification\""
   ]
  },
  {
   "cell_type": "code",
   "execution_count": 12,
   "id": "7b453b78-b71d-4397-bb48-f1521faa7685",
   "metadata": {},
   "outputs": [],
   "source": [
    "all_images = glob.glob(f\"{data_d}/train/images/*.jpg\")\n",
    "for elem in all_images:\n",
    "    img_name = elem.split(\"/\")[3].split(\".\")[0]\n",
    "\n",
    "    img = cv2.imread(elem)\n",
    "    h, w = img.shape[:2]\n",
    "\n",
    "    label_text = glob.glob(f\"{data_d}/train/labels/{img_name}.rf.*.txt\")[0]\n",
    "    with open(label_text, mode=\"r\") as f:\n",
    "        labels_lines = f.readlines()\n",
    "\n",
    "    idx = 0\n",
    "    for label in labels_lines:\n",
    "        label_tokens = label.split(\" \")\n",
    "\n",
    "        # class\n",
    "        class_label = int(label_tokens[0])\n",
    "\n",
    "        # labels coordinates\n",
    "        w_bbox = int(float(label_tokens[3]) * w)\n",
    "        h_bbox = int(float(label_tokens[4]) * h)\n",
    "        cx_bbox = int(float(label_tokens[1]) * w) - w_bbox // 2\n",
    "        cy_bbox = int(float(label_tokens[2]) * h) - h_bbox // 2\n",
    "\n",
    "        # img info extracted\n",
    "        bbox = img[cy_bbox:cy_bbox+h_bbox, cx_bbox:cx_bbox+w_bbox]\n",
    "\n",
    "        if class_label == fold_class:\n",
    "            cv2.imwrite(f\"{data_c}/fold/{img_name}_{idx}.jpg\", bbox)\n",
    "        else:\n",
    "            cv2.imwrite(f\"{data_c}/hole/{img_name}_{idx}.jpg\", bbox)\n",
    "        \n",
    "        idx+=1"
   ]
  },
  {
   "cell_type": "markdown",
   "id": "1dd14d46-4185-4a16-a482-286d5810d18d",
   "metadata": {},
   "source": [
    "# train-valid-test"
   ]
  },
  {
   "cell_type": "code",
   "execution_count": 18,
   "id": "74b718bc-a3e3-4f4f-86cb-42bf3c9cb901",
   "metadata": {},
   "outputs": [
    {
     "name": "stdout",
     "output_type": "stream",
     "text": [
      "prob\n",
      "prob\n",
      "prob\n"
     ]
    }
   ],
   "source": [
    "import random\n",
    "data_c = \"data_classification\"\n",
    "type_c = \"all\"\n",
    "type_d = \"fold\"\n",
    "\n",
    "all_images += glob.glob(f\"{data_c}/{type_d}/*.jpg\")\n",
    "random.shuffle(all_images)\n",
    "n_elem = len(all_images) \n",
    "n_train = int(n_elem * 0.7)+2\n",
    "n_valid = int(n_elem * 0.2)\n",
    "n_test = int(n_elem * 0.1)\n",
    "images_train = all_images[:n_train]\n",
    "images_valid = all_images[n_train:n_train+n_test]\n",
    "images_test = all_images[n_train+n_test:]\n",
    "\n",
    "try:\n",
    "    shutil.rmtree(f\"dataset_{type_c}_cls/train/{type_c}\")\n",
    "except:\n",
    "    print(\"prob\")\n",
    "os.mkdir(f\"dataset_{type_c}_cls/train/{type_d}\")\n",
    "\n",
    "try:\n",
    "    shutil.rmtree(f\"dataset_{type_c}_cls/test/{type_c}\")\n",
    "except:\n",
    "    print(\"prob\")\n",
    "os.mkdir(f\"dataset_{type_c}_cls/test/{type_d}\")\n",
    "\n",
    "try:\n",
    "    shutil.rmtree(f\"dataset_{type_c}_cls/val/{type_c}\")\n",
    "except:\n",
    "    print(\"prob\")\n",
    "os.mkdir(f\"dataset_{type_c}_cls/val/{type_d}\")\n",
    "\n",
    "for elem in images_train:\n",
    "    img_name = elem.split(\"/\")[-1]\n",
    "    shutil.copyfile(elem, f\"dataset_{type_c}_cls/train/{type_d}/{img_name}\")\n",
    "\n",
    "for elem in images_test:\n",
    "    img_name = elem.split(\"/\")[-1]\n",
    "    shutil.copyfile(elem, f\"dataset_{type_c}_cls/test/{type_d}/{img_name}\")\n",
    "\n",
    "for elem in images_valid:\n",
    "    img_name = elem.split(\"/\")[-1]\n",
    "    shutil.copyfile(elem, f\"dataset_{type_c}_cls/val/{type_d}/{img_name}\")"
   ]
  }
 ],
 "metadata": {
  "kernelspec": {
   "display_name": "Python 3 (ipykernel)",
   "language": "python",
   "name": "python3"
  },
  "language_info": {
   "codemirror_mode": {
    "name": "ipython",
    "version": 3
   },
   "file_extension": ".py",
   "mimetype": "text/x-python",
   "name": "python",
   "nbconvert_exporter": "python",
   "pygments_lexer": "ipython3",
   "version": "3.10.14"
  }
 },
 "nbformat": 4,
 "nbformat_minor": 5
}
