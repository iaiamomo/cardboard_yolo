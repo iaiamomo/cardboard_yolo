{
 "cells": [
  {
   "cell_type": "markdown",
   "metadata": {
    "id": "YTK7kmoTPRP6"
   },
   "source": [
    "# Imports and Setup"
   ]
  },
  {
   "cell_type": "code",
   "execution_count": 1,
   "metadata": {
    "id": "5Af9NNQHRRPW"
   },
   "outputs": [
    {
     "name": "stdout",
     "output_type": "stream",
     "text": [
      "env: CLEARML_WEB_HOST=https://app.clear.ml\n",
      "env: CLEARML_API_HOST=https://api.clear.ml\n",
      "env: CLEARML_FILES_HOST=https://files.clear.ml\n",
      "L1Z1RFJFCBKLMXAD05YQ\n",
      "oSnY7ZetYphpyydowL8FMMNKqnc2npGn67Ls0rz8ECwAAkQYR9\n"
     ]
    }
   ],
   "source": [
    "%load_ext autoreload\n",
    "%autoreload 2\n",
    "    \n",
    "# Necessary/extra dependencies. \n",
    "import shutil\n",
    "\n",
    "#customize iPython writefile so we can write variables\n",
    "from IPython.core.magic import register_line_cell_magic\n",
    "\n",
    "@register_line_cell_magic\n",
    "def writetemplate(line, cell):\n",
    "    with open(line, 'w') as f:\n",
    "        f.write(cell.format(**globals()))\n",
    "\n",
    "# ClearML\n",
    "from clearml import Task\n",
    "import dotenv\n",
    "dotenv.load_dotenv()\n",
    "%env CLEARML_WEB_HOST=https://app.clear.ml\n",
    "%env CLEARML_API_HOST=https://api.clear.ml\n",
    "%env CLEARML_FILES_HOST=https://files.clear.ml\n",
    "!echo $CLEARML_API_ACCESS_KEY\n",
    "!echo $CLEARML_API_SECRET_KEY"
   ]
  },
  {
   "cell_type": "markdown",
   "metadata": {
    "id": "UTiYLaNfPRQB"
   },
   "source": [
    "Move `data.yaml` in the `yolov5/data` directory."
   ]
  },
  {
   "cell_type": "code",
   "execution_count": 7,
   "metadata": {},
   "outputs": [
    {
     "name": "stdout",
     "output_type": "stream",
     "text": [
      "Argoverse.yaml        ImageNet1000.yaml  coco.yaml         \u001b[0m\u001b[01;34mimages\u001b[0m/\n",
      "GlobalWheat2020.yaml  Objects365.yaml    coco128-seg.yaml  \u001b[01;34mscripts\u001b[0m/\n",
      "ImageNet.yaml         SKU-110K.yaml      coco128.yaml      xView.yaml\n",
      "ImageNet10.yaml       VOC.yaml           data.yaml\n",
      "ImageNet100.yaml      VisDrone.yaml      \u001b[01;34mhyps\u001b[0m/\n"
     ]
    }
   ],
   "source": [
    "%ls yolov5/data"
   ]
  },
  {
   "cell_type": "code",
   "execution_count": 3,
   "metadata": {
    "scrolled": true
   },
   "outputs": [
    {
     "data": {
      "text/plain": [
       "'./yolov5/data/data.yaml'"
      ]
     },
     "execution_count": 3,
     "metadata": {},
     "output_type": "execute_result"
    }
   ],
   "source": [
    "shutil.copy('./data/data.yaml', './yolov5/data')"
   ]
  },
  {
   "cell_type": "markdown",
   "metadata": {
    "id": "ZY2VXXXu74w5"
   },
   "source": [
    "# 2.Train\n",
    "\n",
    "Train a YOLOv5s model on the custom dataset starting from pretrained `--weights yolov5s.pt`. Training results are saved to `runs/train/` with incrementing run directories, i.e. `runs/train/exp2`, `runs/train/exp3` etc."
   ]
  },
  {
   "cell_type": "code",
   "execution_count": 3,
   "metadata": {},
   "outputs": [
    {
     "name": "stdout",
     "output_type": "stream",
     "text": [
      "/home/default/yolov5/data\n",
      "ls: cannot access '../../data/train': No such file or directory\n",
      "/home/default/yolov5\n",
      "CITATION.cff     \u001b[0m\u001b[01;34m__pycache__\u001b[0m/   export.py         \u001b[01;34mruns\u001b[0m/           val.py\n",
      "CONTRIBUTING.md  benchmarks.py  hubconf.py        \u001b[01;34msegment\u001b[0m/        yolov5s.pt\n",
      "LICENSE          \u001b[01;34mclassify\u001b[0m/      \u001b[01;34mmodels\u001b[0m/           train.py\n",
      "README.md        \u001b[01;34mdata\u001b[0m/          pyproject.toml    tutorial.ipynb\n",
      "README.zh-CN.md  detect.py      requirements.txt  \u001b[01;34mutils\u001b[0m/\n"
     ]
    },
    {
     "name": "stderr",
     "output_type": "stream",
     "text": [
      "/usr/local/lib/python3.10/dist-packages/IPython/core/magics/osm.py:417: UserWarning: This is now an optional IPython functionality, setting dhist requires you to install the `pickleshare` library.\n",
      "  self.shell.db['dhist'] = compress_dhist(dhist)[-100:]\n"
     ]
    }
   ],
   "source": [
    "%cd yolov5/data\n",
    "%ls ../../data/train\n",
    "%cd ..\n",
    "%ls"
   ]
  },
  {
   "cell_type": "code",
   "execution_count": 6,
   "metadata": {
    "scrolled": true
   },
   "outputs": [
    {
     "name": "stdout",
     "output_type": "stream",
     "text": [
      "ClearML Task: created new task id=bbb45c80ec55457fad7b771ec96c75f3\n",
      "2024-05-15 06:23:59,992 - clearml.Repository Detection - WARNING - Jupyter Notebook auto-logging failed, could not access: /home/default/yolov5/yolo5-v3_fla.ipynb\n",
      "2024-05-15 06:23:59,995 - clearml.Task - INFO - Storing jupyter notebook directly as code\n",
      "ClearML results page: https://app.clear.ml/projects/d6caf4b635544db7b78ff369d7217bff/experiments/bbb45c80ec55457fad7b771ec96c75f3/output/log\n"
     ]
    }
   ],
   "source": [
    "task = Task.init(project_name='yolov5_v3', task_name='dataset_hole')"
   ]
  },
  {
   "cell_type": "code",
   "execution_count": null,
   "metadata": {
    "id": "iajBrcgKPRQD",
    "outputId": "cf7a139c-8cfb-44e4-cd3f-b6af1f21b58d",
    "scrolled": true
   },
   "outputs": [
    {
     "name": "stdout",
     "output_type": "stream",
     "text": [
      "\u001b[34m\u001b[1mtrain: \u001b[0mweights=yolov5s.pt, cfg=, data=data/data.yaml, hyp=data/hyps/hyp.scratch-low.yaml, epochs=300, batch_size=2, imgsz=640, rect=False, resume=False, nosave=False, noval=False, noautoanchor=False, noplots=False, evolve=None, evolve_population=data/hyps, resume_evolve=None, bucket=, cache=ram, image_weights=False, device=, multi_scale=False, single_cls=False, optimizer=SGD, sync_bn=False, workers=8, project=runs/train, name=exp, exist_ok=False, quad=False, cos_lr=False, label_smoothing=0.0, patience=100, freeze=[0], save_period=-1, seed=0, local_rank=-1, entity=None, upload_dataset=False, bbox_interval=-1, artifact_alias=latest, ndjson_console=False, ndjson_file=False\n",
      "\u001b[34m\u001b[1mgithub: \u001b[0mup to date with https://github.com/ultralytics/yolov5 ✅\n",
      "YOLOv5 🚀 v7.0-312-g1bcd17ee Python-3.10.12 torch-2.3.0+cu121 CUDA:0 (NVIDIA GeForce RTX 4080 SUPER, 16064MiB)\n",
      "\n",
      "\u001b[34m\u001b[1mhyperparameters: \u001b[0mlr0=0.01, lrf=0.01, momentum=0.937, weight_decay=0.0005, warmup_epochs=3.0, warmup_momentum=0.8, warmup_bias_lr=0.1, box=0.05, cls=0.5, cls_pw=1.0, obj=1.0, obj_pw=1.0, iou_t=0.2, anchor_t=4.0, fl_gamma=0.0, hsv_h=0.015, hsv_s=0.7, hsv_v=0.4, degrees=0.0, translate=0.1, scale=0.5, shear=0.0, perspective=0.0, flipud=0.0, fliplr=0.5, mosaic=1.0, mixup=0.0, copy_paste=0.0\n",
      "\u001b[34m\u001b[1mComet: \u001b[0mrun 'pip install comet_ml' to automatically track and visualize YOLOv5 🚀 runs in Comet\n",
      "\u001b[34m\u001b[1mTensorBoard: \u001b[0mStart with 'tensorboard --logdir runs/train', view at http://localhost:6006/\n",
      "Overriding model.yaml nc=80 with nc=4\n",
      "\n",
      "                 from  n    params  module                                  arguments                     \n",
      "  0                -1  1      3520  models.common.Conv                      [3, 32, 6, 2, 2]              \n",
      "  1                -1  1     18560  models.common.Conv                      [32, 64, 3, 2]                \n",
      "  2                -1  1     18816  models.common.C3                        [64, 64, 1]                   \n",
      "  3                -1  1     73984  models.common.Conv                      [64, 128, 3, 2]               \n",
      "  4                -1  2    115712  models.common.C3                        [128, 128, 2]                 \n",
      "  5                -1  1    295424  models.common.Conv                      [128, 256, 3, 2]              \n",
      "  6                -1  3    625152  models.common.C3                        [256, 256, 3]                 \n",
      "  7                -1  1   1180672  models.common.Conv                      [256, 512, 3, 2]              \n",
      "  8                -1  1   1182720  models.common.C3                        [512, 512, 1]                 \n",
      "  9                -1  1    656896  models.common.SPPF                      [512, 512, 5]                 \n",
      " 10                -1  1    131584  models.common.Conv                      [512, 256, 1, 1]              \n",
      " 11                -1  1         0  torch.nn.modules.upsampling.Upsample    [None, 2, 'nearest']          \n",
      " 12           [-1, 6]  1         0  models.common.Concat                    [1]                           \n",
      " 13                -1  1    361984  models.common.C3                        [512, 256, 1, False]          \n",
      " 14                -1  1     33024  models.common.Conv                      [256, 128, 1, 1]              \n",
      " 15                -1  1         0  torch.nn.modules.upsampling.Upsample    [None, 2, 'nearest']          \n",
      " 16           [-1, 4]  1         0  models.common.Concat                    [1]                           \n",
      " 17                -1  1     90880  models.common.C3                        [256, 128, 1, False]          \n",
      " 18                -1  1    147712  models.common.Conv                      [128, 128, 3, 2]              \n",
      " 19          [-1, 14]  1         0  models.common.Concat                    [1]                           \n",
      " 20                -1  1    296448  models.common.C3                        [256, 256, 1, False]          \n",
      " 21                -1  1    590336  models.common.Conv                      [256, 256, 3, 2]              \n",
      " 22          [-1, 10]  1         0  models.common.Concat                    [1]                           \n",
      " 23                -1  1   1182720  models.common.C3                        [512, 512, 1, False]          \n",
      " 24      [17, 20, 23]  1     24273  models.yolo.Detect                      [4, [[10, 13, 16, 30, 33, 23], [30, 61, 62, 45, 59, 119], [116, 90, 156, 198, 373, 326]], [128, 256, 512]]\n",
      "Model summary: 214 layers, 7030417 parameters, 7030417 gradients, 16.0 GFLOPs\n",
      "\n",
      "Transferred 343/349 items from yolov5s.pt\n",
      "\u001b[34m\u001b[1mAMP: \u001b[0mchecks passed ✅\n",
      "\u001b[34m\u001b[1moptimizer:\u001b[0m SGD(lr=0.01) with parameter groups 57 weight(decay=0.0), 60 weight(decay=0.0005), 60 bias\n",
      "\u001b[34m\u001b[1mtrain: \u001b[0mScanning /home/default/data_holes/train/labels.cache... 3355 images, 3 ba\u001b[0m\n",
      "\u001b[34m\u001b[1mtrain: \u001b[0mCaching images (3.8GB ram): 100%|██████████| 3355/3355 [00:00<00:00, 4726\u001b[0m\n",
      "\u001b[34m\u001b[1mval: \u001b[0mScanning /home/default/data_holes/valid/labels.cache... 315 images, 2 backg\u001b[0m\n",
      "\u001b[34m\u001b[1mval: \u001b[0mCaching images (0.4GB ram): 100%|██████████| 315/315 [00:00<00:00, 4120.17i\u001b[0m\n",
      "\n",
      "\u001b[34m\u001b[1mAutoAnchor: \u001b[0m4.33 anchors/target, 1.000 Best Possible Recall (BPR). Current anchors are a good fit to dataset ✅\n",
      "Plotting labels to runs/train/exp19/labels.jpg... \n",
      "Image sizes 640 train, 640 val\n",
      "Using 2 dataloader workers\n",
      "Logging results to \u001b[1mruns/train/exp19\u001b[0m\n",
      "Starting training for 300 epochs...\n",
      "\n",
      "      Epoch    GPU_mem   box_loss   obj_loss   cls_loss  Instances       Size\n",
      "      0/299     0.738G    0.09455    0.06719    0.01585         48        640: 1\n",
      "                 Class     Images  Instances          P          R      mAP50   \n",
      "                   all        315       4565      0.585       0.75      0.655      0.256\n",
      "\n",
      "      Epoch    GPU_mem   box_loss   obj_loss   cls_loss  Instances       Size\n",
      "      1/299     0.738G    0.06909    0.06344   0.002346          9        640: 1\n",
      "                 Class     Images  Instances          P          R      mAP50   \n",
      "                   all        315       4565      0.674      0.867      0.762      0.324\n",
      "\n",
      "      Epoch    GPU_mem   box_loss   obj_loss   cls_loss  Instances       Size\n",
      "      2/299     0.738G    0.06384    0.06126   0.002101          4        640: 1\n",
      "                 Class     Images  Instances          P          R      mAP50   \n",
      "                   all        315       4565      0.743      0.855      0.823      0.364\n",
      "\n",
      "      Epoch    GPU_mem   box_loss   obj_loss   cls_loss  Instances       Size\n",
      "      3/299      0.74G    0.05909    0.05982   0.001824         11        640: 1\n",
      "                 Class     Images  Instances          P          R      mAP50   \n",
      "                   all        315       4565      0.919      0.901      0.904      0.426\n",
      "\n",
      "      Epoch    GPU_mem   box_loss   obj_loss   cls_loss  Instances       Size\n",
      "      4/299      0.74G    0.05358    0.05814   0.001432         13        640: 1\n",
      "                 Class     Images  Instances          P          R      mAP50   \n",
      "                   all        315       4565      0.906      0.901      0.894      0.431\n",
      "\n",
      "      Epoch    GPU_mem   box_loss   obj_loss   cls_loss  Instances       Size\n",
      "      5/299      0.74G    0.05086    0.05775    0.00122         29        640: 1\n",
      "                 Class     Images  Instances          P          R      mAP50   \n",
      "                   all        315       4565      0.927      0.924      0.916      0.474\n",
      "\n",
      "      Epoch    GPU_mem   box_loss   obj_loss   cls_loss  Instances       Size\n",
      "      6/299      0.74G    0.04897    0.05751   0.001073         46        640: 1\n",
      "                 Class     Images  Instances          P          R      mAP50   \n",
      "                   all        315       4565      0.932      0.932      0.922      0.484\n",
      "\n",
      "      Epoch    GPU_mem   box_loss   obj_loss   cls_loss  Instances       Size\n",
      "      7/299      0.74G    0.04752    0.05616   0.000954          6        640: 1\n",
      "                 Class     Images  Instances          P          R      mAP50   \n",
      "                   all        315       4565      0.936       0.93      0.924      0.496\n",
      "\n",
      "      Epoch    GPU_mem   box_loss   obj_loss   cls_loss  Instances       Size\n",
      "      8/299      0.74G    0.04573    0.05585  0.0008678         21        640: 1\n",
      "                 Class     Images  Instances          P          R      mAP50   \n",
      "                   all        315       4565      0.932      0.923      0.928      0.507\n",
      "\n",
      "      Epoch    GPU_mem   box_loss   obj_loss   cls_loss  Instances       Size\n",
      "      9/299      0.74G     0.0451    0.05577  0.0007989         40        640: 1\n",
      "                 Class     Images  Instances          P          R      mAP50   \n",
      "                   all        315       4565      0.945      0.934      0.934      0.525\n",
      "\n",
      "      Epoch    GPU_mem   box_loss   obj_loss   cls_loss  Instances       Size\n",
      "     10/299      0.74G    0.04411    0.05473  0.0007191         28        640: 1\n",
      "                 Class     Images  Instances          P          R      mAP50   \n",
      "                   all        315       4565      0.947      0.936       0.94      0.531\n",
      "\n",
      "      Epoch    GPU_mem   box_loss   obj_loss   cls_loss  Instances       Size\n",
      "     11/299      0.74G    0.04308    0.05341  0.0006774         19        640: 1\n",
      "                 Class     Images  Instances          P          R      mAP50   \n",
      "                   all        315       4565      0.946      0.937      0.937      0.524\n",
      "\n",
      "      Epoch    GPU_mem   box_loss   obj_loss   cls_loss  Instances       Size\n",
      "     12/299      0.74G    0.04177    0.05336  0.0006324          6        640: 1\n",
      "                 Class     Images  Instances          P          R      mAP50   \n",
      "                   all        315       4565      0.936      0.935      0.937       0.53\n",
      "\n",
      "      Epoch    GPU_mem   box_loss   obj_loss   cls_loss  Instances       Size\n",
      "     13/299      0.74G    0.04213    0.05301  0.0005998         13        640: 1\n",
      "                 Class     Images  Instances          P          R      mAP50   \n",
      "                   all        315       4565      0.932      0.928       0.94      0.546\n",
      "\n",
      "      Epoch    GPU_mem   box_loss   obj_loss   cls_loss  Instances       Size\n",
      "     14/299      0.74G    0.04135    0.05364  0.0005635         48        640: 1\n",
      "                 Class     Images  Instances          P          R      mAP50   \n",
      "                   all        315       4565      0.947      0.928      0.942       0.53\n",
      "\n",
      "      Epoch    GPU_mem   box_loss   obj_loss   cls_loss  Instances       Size\n",
      "     15/299      0.74G    0.04046    0.05259  0.0005208         16        640: 1\n",
      "                 Class     Images  Instances          P          R      mAP50   \n",
      "                   all        315       4565      0.951      0.936      0.947      0.564\n",
      "\n",
      "      Epoch    GPU_mem   box_loss   obj_loss   cls_loss  Instances       Size\n",
      "     16/299      0.74G    0.03992    0.05195  0.0005226         19        640: 1\n",
      "                 Class     Images  Instances          P          R      mAP50   \n",
      "                   all        315       4565       0.94      0.934      0.945      0.557\n",
      "\n",
      "      Epoch    GPU_mem   box_loss   obj_loss   cls_loss  Instances       Size\n",
      "     17/299      0.74G    0.03928    0.05162   0.000494         32        640: 1\n",
      "                 Class     Images  Instances          P          R      mAP50   \n",
      "                   all        315       4565      0.956      0.933       0.95      0.579\n",
      "\n",
      "      Epoch    GPU_mem   box_loss   obj_loss   cls_loss  Instances       Size\n",
      "     18/299      0.74G    0.03933    0.05183  0.0004784          4        640: 1\n",
      "                 Class     Images  Instances          P          R      mAP50   \n",
      "                   all        315       4565      0.955      0.939      0.952      0.577\n",
      "\n",
      "      Epoch    GPU_mem   box_loss   obj_loss   cls_loss  Instances       Size\n",
      "     19/299      0.74G    0.03856    0.05085  0.0004529          7        640: 1\n",
      "                 Class     Images  Instances          P          R      mAP50   \n",
      "                   all        315       4565      0.943       0.93       0.95      0.565\n",
      "\n",
      "      Epoch    GPU_mem   box_loss   obj_loss   cls_loss  Instances       Size\n",
      "     20/299      0.74G    0.03877    0.05213  0.0004429         46        640: 1\n",
      "                 Class     Images  Instances          P          R      mAP50   \n",
      "                   all        315       4565      0.937      0.937       0.95      0.569\n",
      "\n",
      "      Epoch    GPU_mem   box_loss   obj_loss   cls_loss  Instances       Size\n",
      "     21/299      0.74G    0.03817    0.05143  0.0004323         15        640: 1\n",
      "                 Class     Images  Instances          P          R      mAP50   \n",
      "                   all        315       4565      0.927      0.933      0.948      0.568\n",
      "\n",
      "      Epoch    GPU_mem   box_loss   obj_loss   cls_loss  Instances       Size\n",
      "     22/299      0.74G    0.03758     0.0504  0.0004129         31        640: 1\n",
      "                 Class     Images  Instances          P          R      mAP50   \n",
      "                   all        315       4565      0.912       0.93      0.946      0.563\n",
      "\n",
      "      Epoch    GPU_mem   box_loss   obj_loss   cls_loss  Instances       Size\n",
      "     23/299      0.74G    0.03731    0.05089  0.0003902          9        640: 1\n",
      "                 Class     Images  Instances          P          R      mAP50   \n",
      "                   all        315       4565      0.948      0.939      0.958      0.592\n",
      "\n",
      "      Epoch    GPU_mem   box_loss   obj_loss   cls_loss  Instances       Size\n",
      "     24/299      0.74G    0.03718    0.05074  0.0003908         17        640: 1\n",
      "                 Class     Images  Instances          P          R      mAP50   \n",
      "                   all        315       4565      0.934      0.938      0.953      0.583\n",
      "\n",
      "      Epoch    GPU_mem   box_loss   obj_loss   cls_loss  Instances       Size\n",
      "     25/299      0.74G    0.03662    0.05032  0.0003817          5        640: 1\n",
      "                 Class     Images  Instances          P          R      mAP50   \n",
      "                   all        315       4565      0.929      0.931      0.951      0.585\n",
      "\n",
      "      Epoch    GPU_mem   box_loss   obj_loss   cls_loss  Instances       Size\n",
      "     26/299      0.74G    0.03683    0.05076  0.0003629         23        640:  "
     ]
    }
   ],
   "source": [
    "!python3 train.py --img 640 --batch 2 --epochs 300 --data data/data.yaml --weights yolov5s.pt --cache"
   ]
  },
  {
   "cell_type": "code",
   "execution_count": 47,
   "metadata": {},
   "outputs": [],
   "source": [
    "task.close()"
   ]
  },
  {
   "cell_type": "markdown",
   "metadata": {
    "id": "4JnkELT0cIJg"
   },
   "source": [
    "# 3. Inference"
   ]
  },
  {
   "cell_type": "markdown",
   "metadata": {
    "id": "vhLbqgCnGDS8"
   },
   "source": [
    "We use the best weights for the inference"
   ]
  },
  {
   "cell_type": "code",
   "execution_count": 26,
   "metadata": {
    "scrolled": true
   },
   "outputs": [
    {
     "name": "stdout",
     "output_type": "stream",
     "text": [
      "CITATION.cff     \u001b[0m\u001b[01;34m__pycache__\u001b[0m/   export.py         \u001b[01;34mruns\u001b[0m/           val.py\n",
      "CONTRIBUTING.md  benchmarks.py  hubconf.py        \u001b[01;34msegment\u001b[0m/        yolov5s.pt\n",
      "LICENSE          \u001b[01;34mclassify\u001b[0m/      \u001b[01;34mmodels\u001b[0m/           train.py\n",
      "README.md        \u001b[01;34mdata\u001b[0m/          pyproject.toml    tutorial.ipynb\n",
      "README.zh-CN.md  detect.py      requirements.txt  \u001b[01;34mutils\u001b[0m/\n"
     ]
    }
   ],
   "source": [
    "%ls"
   ]
  },
  {
   "cell_type": "code",
   "execution_count": 48,
   "metadata": {
    "id": "zR9ZbuQCH7FX",
    "outputId": "7f3e9720-f9b3-4bb5-a4ea-ac2611b3dc69",
    "scrolled": true
   },
   "outputs": [
    {
     "name": "stdout",
     "output_type": "stream",
     "text": [
      "\u001b[34m\u001b[1mdetect: \u001b[0mweights=['runs/train/exp15/weights/best.pt'], source=../data_black/test/images, data=data/coco128.yaml, imgsz=[640, 640], conf_thres=0.25, iou_thres=0.45, max_det=1000, device=, view_img=False, save_txt=True, save_csv=False, save_conf=False, save_crop=False, nosave=False, classes=None, agnostic_nms=False, augment=False, visualize=False, update=False, project=runs/detect, name=exp, exist_ok=False, line_thickness=1, hide_labels=False, hide_conf=False, half=False, dnn=False, vid_stride=1\n",
      "YOLOv5 🚀 v7.0-312-g1bcd17ee Python-3.10.12 torch-2.3.0+cu121 CUDA:0 (NVIDIA GeForce RTX 4080 SUPER, 16064MiB)\n",
      "\n",
      "Fusing layers... \n",
      "Model summary: 157 layers, 7020913 parameters, 0 gradients, 15.8 GFLOPs\n",
      "image 1/163 /home/default/data_black/test/images/c1_51_b8_a0_61_d8_23_rot_jpeg.rf.ed2982a34f34add6cd05f742d394bd1b.jpg: 640x640 35 folds, 6 holes, 11 perforators, 1.5ms\n",
      "image 2/163 /home/default/data_black/test/images/c1_51_b8_a0_61_d8_7_rot_jpeg.rf.8e9bb4c53256f4fbcade3e5790858824.jpg: 640x640 1 cutfold, 36 folds, 6 holes, 8 perforators, 1.6ms\n",
      "image 3/163 /home/default/data_black/test/images/c1_67_62_22_6f_8f_1_rot_jpeg.rf.dc93be99565c2d7f96b4d14bd76b62bd.jpg: 640x640 12 cutfolds, 29 folds, 2 holes, 12 perforators, 1.5ms\n",
      "image 4/163 /home/default/data_black/test/images/c2_af_78_28_5f_4f_28_rot_jpeg.rf.48d3e1befd699039ab9ef8031c2b0f66.jpg: 640x640 6 cutfolds, 7 folds, 1.4ms\n",
      "image 5/163 /home/default/data_black/test/images/c2_af_78_28_5f_4f_41_rot_jpeg.rf.ad0a5945524b90c8fb7aa0f778ef1369.jpg: 640x640 13 cutfolds, 4 folds, 1 perforator, 1.4ms\n",
      "image 6/163 /home/default/data_black/test/images/c2_af_78_28_5f_4f_6_rot_jpeg.rf.f529b18173063246f809a75ef70db25c.jpg: 640x640 26 cutfolds, 33 folds, 4 holes, 8 perforators, 1.5ms\n",
      "image 7/163 /home/default/data_black/test/images/c2_da_c6_53_e2_68_1_rot_jpeg.rf.80e6849d7bbbfa6e3fcf472b5c591868.jpg: 640x640 37 folds, 15 holes, 4 perforators, 1.5ms\n",
      "image 8/163 /home/default/data_black/test/images/c3_85_eb_6a_eb_c4_13_rot_jpeg.rf.07cb3d06920140a6d206a09f9fce5883.jpg: 640x640 18 cutfolds, 62 folds, 25 holes, 5 perforators, 1.5ms\n",
      "image 9/163 /home/default/data_black/test/images/c3_85_eb_6a_eb_c4_18_rot_jpeg.rf.f3bf5b6ed97f9fca03b24859c11da823.jpg: 640x640 17 cutfolds, 63 folds, 25 holes, 5 perforators, 1.5ms\n",
      "image 10/163 /home/default/data_black/test/images/c3_b2_2c_7e_29_0e_12_rot_jpeg.rf.88189fee5fc2f67bbdcd1d0ed07011c9.jpg: 640x640 36 folds, 14 holes, 5 perforators, 1.6ms\n",
      "image 11/163 /home/default/data_black/test/images/c3_b2_2c_7e_29_0e_15_rot_jpeg.rf.0627b6f3091289f7dd9765d8da797908.jpg: 640x640 36 folds, 14 holes, 6 perforators, 1.5ms\n",
      "image 12/163 /home/default/data_black/test/images/c3_b2_2c_7e_29_0e_20_rot_jpeg.rf.076fd2c3c9a76bee133dbd639701a2fd.jpg: 640x640 36 folds, 14 holes, 5 perforators, 1.6ms\n",
      "image 13/163 /home/default/data_black/test/images/c3_b2_2c_7e_29_0e_27_rot_jpeg.rf.b481307d1d064ba71959d1e343a0fe1c.jpg: 640x640 36 folds, 14 holes, 5 perforators, 1.7ms\n",
      "image 14/163 /home/default/data_black/test/images/c3_b2_2c_7e_29_0e_33_rot_jpeg.rf.c7a4a3783a8267b389279957ceb5c089.jpg: 640x640 36 folds, 14 holes, 5 perforators, 1.5ms\n",
      "image 15/163 /home/default/data_black/test/images/c3_b2_2c_7e_29_0e_41_rot_jpeg.rf.4e4622f9de077461cdb9c2cbc1e70dd9.jpg: 640x640 36 folds, 14 holes, 5 perforators, 1.5ms\n",
      "image 16/163 /home/default/data_black/test/images/c3_b3_ac_ee_20_a9_4_rot_jpeg.rf.f18ef02fe8dbdb81f9cbb627b23d3c7f.jpg: 640x640 36 cutfolds, 4 folds, 3 holes, 108 perforators, 1.5ms\n",
      "image 17/163 /home/default/data_black/test/images/c6_51_fd_3c_99_f1_1_rot_jpeg.rf.85a0390234c04ba9b7738df3cef42e9d.jpg: 640x640 112 folds, 29 holes, 4 perforators, 1.5ms\n",
      "image 18/163 /home/default/data_black/test/images/c8_46_4b_71_85_7b_13_rot_jpeg.rf.1697153216a52b5ce6c0f890f002b756.jpg: 640x640 33 folds, 6 holes, 11 perforators, 1.5ms\n",
      "image 19/163 /home/default/data_black/test/images/c8_46_4b_71_85_7b_30_rot_jpeg.rf.114ea66a25564e2e98ca6f2497ad3e98.jpg: 640x640 33 folds, 6 holes, 11 perforators, 1.5ms\n",
      "image 20/163 /home/default/data_black/test/images/c8_53_e4_be_93_69_0_rot_jpeg.rf.8c80a38b34249751b4c7b0ac5bad4a55.jpg: 640x640 120 folds, 27 holes, 4 perforators, 1.7ms\n",
      "image 21/163 /home/default/data_black/test/images/c8_86_50_b1_17_7d_0_rot_jpeg.rf.7396a2ac909e51759bca877e12e9547f.jpg: 640x640 36 folds, 7 holes, 5 perforators, 1.7ms\n",
      "image 22/163 /home/default/data_black/test/images/c8_86_50_b1_17_7d_13_rot_jpeg.rf.0f4a44bb54f29ba58cc11d898249b290.jpg: 640x640 38 folds, 7 holes, 4 perforators, 1.5ms\n",
      "image 23/163 /home/default/data_black/test/images/c8_86_50_b1_17_7d_14_rot_jpeg.rf.727087c9adb5e555258620450af3c650.jpg: 640x640 36 folds, 7 holes, 4 perforators, 1.6ms\n",
      "image 24/163 /home/default/data_black/test/images/c8_86_50_b1_17_7d_15_rot_jpeg.rf.e90d39cc868826f5fc346e1a4c31433d.jpg: 640x640 36 folds, 7 holes, 5 perforators, 1.5ms\n",
      "image 25/163 /home/default/data_black/test/images/ca_60_0a_26_11_67_0_rot_jpeg.rf.05cb366bb46f501db05d0f4a2fabd1b2.jpg: 640x640 16 cutfolds, 20 folds, 13 holes, 5 perforators, 1.6ms\n",
      "image 26/163 /home/default/data_black/test/images/ca_60_0a_26_11_67_100_rot_jpeg.rf.11774b40cea299bc31e03bc769b7ac44.jpg: 640x640 16 cutfolds, 20 folds, 13 holes, 5 perforators, 1.6ms\n",
      "image 27/163 /home/default/data_black/test/images/ca_60_0a_26_11_67_102_rot_jpeg.rf.1ad6fb3ff3275646bd384f8308daf5b0.jpg: 640x640 17 cutfolds, 20 folds, 13 holes, 5 perforators, 1.5ms\n",
      "image 28/163 /home/default/data_black/test/images/ca_60_0a_26_11_67_118_rot_jpeg.rf.9663afb36df11c9ff99b323152beabc7.jpg: 640x640 16 cutfolds, 20 folds, 13 holes, 3 perforators, 1.5ms\n",
      "image 29/163 /home/default/data_black/test/images/ca_60_0a_26_11_67_12_rot_jpeg.rf.3315f7ba789ee2868a551a89c26142f7.jpg: 640x640 19 cutfolds, 20 folds, 13 holes, 3 perforators, 1.8ms\n",
      "image 30/163 /home/default/data_black/test/images/ca_60_0a_26_11_67_140_rot_jpeg.rf.9c1fb1aa97ed69ecb8b052899924149c.jpg: 640x640 16 cutfolds, 21 folds, 13 holes, 3 perforators, 1.5ms\n",
      "image 31/163 /home/default/data_black/test/images/ca_60_0a_26_11_67_17_rot_jpeg.rf.e0a686525ec6883f84d429c9fb4f01ac.jpg: 640x640 16 cutfolds, 20 folds, 13 holes, 5 perforators, 1.5ms\n",
      "image 32/163 /home/default/data_black/test/images/ca_60_0a_26_11_67_187_rot_jpeg.rf.eb0f26baf724a3117f4d16543d59007d.jpg: 640x640 17 cutfolds, 20 folds, 13 holes, 4 perforators, 1.5ms\n",
      "image 33/163 /home/default/data_black/test/images/ca_60_0a_26_11_67_191_rot_jpeg.rf.5ada8329e998488ab0d5371507964cb1.jpg: 640x640 16 cutfolds, 20 folds, 13 holes, 5 perforators, 1.5ms\n",
      "image 34/163 /home/default/data_black/test/images/ca_60_0a_26_11_67_195_rot_jpeg.rf.b1aac32c6bd5e055e1d5471d6f48a913.jpg: 640x640 16 cutfolds, 20 folds, 13 holes, 4 perforators, 1.5ms\n",
      "image 35/163 /home/default/data_black/test/images/ca_60_0a_26_11_67_212_rot_jpeg.rf.b2ebd238fa97048a1c99c552fbffd3a2.jpg: 640x640 22 cutfolds, 22 folds, 13 holes, 4 perforators, 1.6ms\n",
      "image 36/163 /home/default/data_black/test/images/ca_60_0a_26_11_67_213_rot_jpeg.rf.814cf19464bb4461c23a11680ef0cae2.jpg: 640x640 19 cutfolds, 21 folds, 13 holes, 3 perforators, 1.6ms\n",
      "image 37/163 /home/default/data_black/test/images/ca_60_0a_26_11_67_29_rot_jpeg.rf.941933e6a22fbc999fabbeabc3f29d50.jpg: 640x640 16 cutfolds, 20 folds, 13 holes, 5 perforators, 1.5ms\n",
      "image 38/163 /home/default/data_black/test/images/ca_60_0a_26_11_67_2_rot_jpeg.rf.ab2809bc1ec14ed1881f78ef20c96544.jpg: 640x640 18 cutfolds, 21 folds, 13 holes, 4 perforators, 1.8ms\n",
      "image 39/163 /home/default/data_black/test/images/ca_60_0a_26_11_67_35_rot_jpeg.rf.5bbd0cffcae47b7347d536fa29a9dc24.jpg: 640x640 19 cutfolds, 20 folds, 13 holes, 3 perforators, 1.5ms\n",
      "image 40/163 /home/default/data_black/test/images/ca_60_0a_26_11_67_38_rot_jpeg.rf.9b7ea2b08e864dbdb551bcd9c8273a7f.jpg: 640x640 16 cutfolds, 20 folds, 13 holes, 4 perforators, 1.5ms\n",
      "image 41/163 /home/default/data_black/test/images/ca_60_0a_26_11_67_39_rot_jpeg.rf.855f60a6e99c9c0b5e17a9648f46aa8e.jpg: 640x640 16 cutfolds, 20 folds, 13 holes, 3 perforators, 1.5ms\n",
      "image 42/163 /home/default/data_black/test/images/ca_60_0a_26_11_67_40_rot_jpeg.rf.3f02d7d41f3986d724b3aaf9e0c1f262.jpg: 640x640 16 cutfolds, 20 folds, 13 holes, 5 perforators, 1.4ms\n",
      "image 43/163 /home/default/data_black/test/images/ca_60_0a_26_11_67_50_rot_jpeg.rf.add42d87dc1b6f5ccc933556d08407bd.jpg: 640x640 19 cutfolds, 20 folds, 13 holes, 3 perforators, 1.5ms\n",
      "image 44/163 /home/default/data_black/test/images/ca_60_0a_26_11_67_76_rot_jpeg.rf.f19c27fb96cb344e8aa90b4c28830ed2.jpg: 640x640 18 cutfolds, 21 folds, 13 holes, 4 perforators, 1.5ms\n",
      "image 45/163 /home/default/data_black/test/images/ca_60_0a_26_11_67_80_rot_jpeg.rf.638e4aa8ab86fdacdeea3f553b3a7ece.jpg: 640x640 21 cutfolds, 21 folds, 13 holes, 4 perforators, 1.5ms\n",
      "image 46/163 /home/default/data_black/test/images/ca_60_0a_26_11_67_82_rot_jpeg.rf.5b21146a21bf1a578a811c4a47367502.jpg: 640x640 20 cutfolds, 20 folds, 13 holes, 2 perforators, 1.5ms\n",
      "image 47/163 /home/default/data_black/test/images/ca_ec_e0_45_8d_22_17_rot_jpeg.rf.81a310646646c29070d30ec0b850e5f5.jpg: 640x640 40 folds, 7 holes, 4 perforators, 1.5ms\n",
      "image 48/163 /home/default/data_black/test/images/ca_ec_e0_45_8d_22_18_rot_jpeg.rf.358e2f786a8e0e1e7f36d3285476f097.jpg: 640x640 40 folds, 7 holes, 5 perforators, 1.5ms\n",
      "image 49/163 /home/default/data_black/test/images/ca_ec_e0_45_8d_22_19_rot_jpeg.rf.5561474a89f8336b633708eef9d3ab03.jpg: 640x640 40 folds, 7 holes, 4 perforators, 1.4ms\n",
      "image 50/163 /home/default/data_black/test/images/ca_ec_e0_45_8d_22_2_rot_jpeg.rf.725746d7d725fad45199879ec85593fb.jpg: 640x640 40 folds, 7 holes, 4 perforators, 1.4ms\n",
      "image 51/163 /home/default/data_black/test/images/ca_ec_e0_45_8d_22_5_rot_jpeg.rf.a8bd7773ee93e532ddc76d9362433aee.jpg: 640x640 41 folds, 7 holes, 4 perforators, 1.5ms\n",
      "image 52/163 /home/default/data_black/test/images/ca_ec_e0_45_8d_22_8_rot_jpeg.rf.b847cc548354f9e9a1dfef1f441f922c.jpg: 640x640 41 folds, 7 holes, 4 perforators, 1.5ms\n",
      "image 53/163 /home/default/data_black/test/images/cd_5e_b9_6c_a2_d8_17_rot_jpeg.rf.f05c562b2d14197c0edd4f901bfd884e.jpg: 640x640 34 cutfolds, 58 folds, 24 holes, 3 perforators, 1.4ms\n",
      "image 54/163 /home/default/data_black/test/images/cd_5e_b9_6c_a2_d8_5_rot_jpeg.rf.38de4930a32a55e3614b399f9dd2fd1e.jpg: 640x640 35 cutfolds, 63 folds, 25 holes, 2 perforators, 1.5ms\n",
      "image 55/163 /home/default/data_black/test/images/cd_5e_b9_6c_a2_d8_9_rot_jpeg.rf.b4908c1f80eaa492e15dba7efa9a1241.jpg: 640x640 34 cutfolds, 56 folds, 24 holes, 3 perforators, 1.5ms\n",
      "image 56/163 /home/default/data_black/test/images/d0_5f_92_96_3a_53_14_rot_jpeg.rf.b822506576f957a01d90543f3a1f2bc2.jpg: 640x640 50 folds, 20 holes, 5 perforators, 1.5ms\n",
      "image 57/163 /home/default/data_black/test/images/d0_5f_92_96_3a_53_38_rot_jpeg.rf.51a961a7bad7147076b7870309ad94eb.jpg: 640x640 50 folds, 20 holes, 5 perforators, 1.5ms\n",
      "image 58/163 /home/default/data_black/test/images/d0_5f_92_96_3a_53_43_rot_jpeg.rf.9cacaf726aa6b2d62978eb4cb9d938d8.jpg: 640x640 50 folds, 20 holes, 5 perforators, 1.5ms\n",
      "image 59/163 /home/default/data_black/test/images/d0_5f_92_96_3a_53_45_rot_jpeg.rf.fd466af7bfc71b9d8c1fc9997b99f56e.jpg: 640x640 50 folds, 21 holes, 5 perforators, 1.4ms\n",
      "image 60/163 /home/default/data_black/test/images/d0_5f_92_96_3a_53_55_rot_jpeg.rf.62386a875bb3de7f10248e2144ea7c4b.jpg: 640x640 51 folds, 20 holes, 5 perforators, 1.5ms\n",
      "image 61/163 /home/default/data_black/test/images/d0_5f_92_96_3a_53_62_rot_jpeg.rf.01a5195fd72922bd7450debb95a5d66c.jpg: 640x640 50 folds, 20 holes, 5 perforators, 1.5ms\n",
      "image 62/163 /home/default/data_black/test/images/d0_5f_92_96_3a_53_63_rot_jpeg.rf.91ac250d6b17510ba772fb8862adb18f.jpg: 640x640 50 folds, 20 holes, 5 perforators, 1.5ms\n",
      "image 63/163 /home/default/data_black/test/images/d0_5f_92_96_3a_53_8_rot_jpeg.rf.71c99a85ec223313e8c1d4d47f131cfb.jpg: 640x640 41 folds, 16 holes, 7 perforators, 1.5ms\n",
      "image 64/163 /home/default/data_black/test/images/d1_e5_cd_98_a4_b0_6_rot_jpeg.rf.aafe1b517a34fba0fd220b15af059503.jpg: 640x640 24 folds, 3 holes, 4 perforators, 1.5ms\n",
      "image 65/163 /home/default/data_black/test/images/d8_66_2b_d8_ef_ba_1_rot_jpeg.rf.9ff6bcc50a45c47b5a86ffea67c1b1dd.jpg: 640x640 17 folds, 6 holes, 18 perforators, 1.5ms\n",
      "image 66/163 /home/default/data_black/test/images/da_6f_dc_b8_b4_f6_1_rot_jpeg.rf.9c43675f7b841834a7db1eec36e44e25.jpg: 640x640 2 cutfolds, 53 folds, 32 holes, 5 perforators, 1.5ms\n",
      "image 67/163 /home/default/data_black/test/images/da_8f_c7_0c_06_3b_14_rot_jpeg.rf.d17f44b8e2efe763cf3560980dea9a5e.jpg: 640x640 60 folds, 10 holes, 16 perforators, 1.5ms\n",
      "image 68/163 /home/default/data_black/test/images/da_8f_c7_0c_06_3b_1_rot_jpeg.rf.8ccd11770c828f24d3ccec1cfc0c3119.jpg: 640x640 61 folds, 10 holes, 16 perforators, 1.5ms\n",
      "image 69/163 /home/default/data_black/test/images/da_9c_58_f9_19_b9_15_rot_jpeg.rf.5aa61644f6cebb9108fb9213a8d808fa.jpg: 640x640 54 folds, 24 holes, 13 perforators, 1.5ms\n",
      "image 70/163 /home/default/data_black/test/images/da_9c_58_f9_19_b9_35_rot_jpeg.rf.46eec4b250cba72cf355154123787d38.jpg: 640x640 54 folds, 24 holes, 12 perforators, 1.4ms\n",
      "image 71/163 /home/default/data_black/test/images/da_9c_58_f9_19_b9_6_rot_jpeg.rf.95f3be0d6a3b74e97def2485c698efc0.jpg: 640x640 54 folds, 24 holes, 14 perforators, 1.7ms\n",
      "image 72/163 /home/default/data_black/test/images/de_86_86_8e_27_42_14_rot_jpeg.rf.ccedaafc775e1ee745812b18e8e9e91b.jpg: 640x640 14 cutfolds, 53 folds, 18 holes, 7 perforators, 1.5ms\n",
      "image 73/163 /home/default/data_black/test/images/de_86_86_8e_27_42_20_rot_jpeg.rf.41e3bb6a2ecf31de48055f472253cbb3.jpg: 640x640 14 cutfolds, 73 folds, 25 holes, 11 perforators, 1.4ms\n",
      "image 74/163 /home/default/data_black/test/images/de_86_86_8e_27_42_3_rot_jpeg.rf.8a218fea969f6ed8c9ad49af6d7b4b6e.jpg: 640x640 10 cutfolds, 77 folds, 24 holes, 17 perforators, 1.5ms\n",
      "image 75/163 /home/default/data_black/test/images/de_86_86_8e_27_42_9_rot_jpeg.rf.855ec48ada2dbad7cc6408010be43df9.jpg: 640x640 14 cutfolds, 77 folds, 24 holes, 11 perforators, 1.5ms\n",
      "image 76/163 /home/default/data_black/test/images/de_ed_5b_cc_d9_e4_10_rot_jpeg.rf.151001ff08ecee082fff910863c35fda.jpg: 640x640 38 folds, 15 holes, 4 perforators, 1.5ms\n",
      "image 77/163 /home/default/data_black/test/images/de_ed_5b_cc_d9_e4_19_rot_jpeg.rf.c8903f1aa1960e0eb9bdd3c705da1e11.jpg: 640x640 35 folds, 15 holes, 4 perforators, 1.5ms\n",
      "image 78/163 /home/default/data_black/test/images/de_ed_5b_cc_d9_e4_4_rot_jpeg.rf.2681d59a1f3c243c675e123908ff6b55.jpg: 640x640 33 folds, 11 holes, 5 perforators, 1.5ms\n",
      "image 79/163 /home/default/data_black/test/images/de_ed_5b_cc_d9_e4_6_rot_jpeg.rf.21d88e410404dea2a8cc954c31013143.jpg: 640x640 35 folds, 14 holes, 4 perforators, 1.5ms\n",
      "image 80/163 /home/default/data_black/test/images/de_ed_5b_cc_d9_e4_9_rot_jpeg.rf.6147f5fb8f3874b46d78a9d33fca8825.jpg: 640x640 34 folds, 14 holes, 4 perforators, 1.5ms\n",
      "image 81/163 /home/default/data_black/test/images/df_ea_e9_b2_1e_fa_100_rot_jpeg.rf.0d7fb717139e9f70aeb54bd1510a32d3.jpg: 640x640 16 cutfolds, 16 folds, 13 holes, 4 perforators, 1.5ms\n",
      "image 82/163 /home/default/data_black/test/images/df_ea_e9_b2_1e_fa_111_rot_jpeg.rf.318f46ce7dd6f2d1285c7dcd95fa93fb.jpg: 640x640 17 cutfolds, 16 folds, 13 holes, 3 perforators, 1.6ms\n",
      "image 83/163 /home/default/data_black/test/images/df_ea_e9_b2_1e_fa_124_rot_jpeg.rf.66c2daf319c672b03d24dd9d9f653f29.jpg: 640x640 16 cutfolds, 16 folds, 13 holes, 4 perforators, 1.5ms\n",
      "image 84/163 /home/default/data_black/test/images/df_ea_e9_b2_1e_fa_126_rot_jpeg.rf.3a1fff875ddae2f9a13bbac066fb1901.jpg: 640x640 16 cutfolds, 16 folds, 13 holes, 4 perforators, 1.5ms\n",
      "image 85/163 /home/default/data_black/test/images/df_ea_e9_b2_1e_fa_14_rot_jpeg.rf.b8e192570f300bb539da52e381715774.jpg: 640x640 20 cutfolds, 19 folds, 13 holes, 3 perforators, 1.5ms\n",
      "image 86/163 /home/default/data_black/test/images/df_ea_e9_b2_1e_fa_23_rot_jpeg.rf.7d2d53a22d157b79e10f83cd5f889018.jpg: 640x640 16 cutfolds, 16 folds, 13 holes, 5 perforators, 1.6ms\n",
      "image 87/163 /home/default/data_black/test/images/df_ea_e9_b2_1e_fa_24_rot_jpeg.rf.debe5c14ece5fb3f4975d87be1a3b387.jpg: 640x640 16 cutfolds, 16 folds, 13 holes, 4 perforators, 1.5ms\n",
      "image 88/163 /home/default/data_black/test/images/df_ea_e9_b2_1e_fa_29_rot_jpeg.rf.f7832952023abd7984bfb6341804a9dc.jpg: 640x640 16 cutfolds, 16 folds, 13 holes, 4 perforators, 1.5ms\n",
      "image 89/163 /home/default/data_black/test/images/df_ea_e9_b2_1e_fa_48_rot_jpeg.rf.2ef481451f806fc19b0ba012ad4a88ad.jpg: 640x640 16 cutfolds, 16 folds, 13 holes, 4 perforators, 1.5ms\n",
      "image 90/163 /home/default/data_black/test/images/df_ea_e9_b2_1e_fa_50_rot_jpeg.rf.0b4dd056e188944d703041858c9410ea.jpg: 640x640 16 cutfolds, 16 folds, 13 holes, 4 perforators, 1.8ms\n",
      "image 91/163 /home/default/data_black/test/images/df_ea_e9_b2_1e_fa_51_rot_jpeg.rf.16033be294299dab52a9936b134a9631.jpg: 640x640 17 cutfolds, 16 folds, 13 holes, 4 perforators, 1.5ms\n",
      "image 92/163 /home/default/data_black/test/images/df_ea_e9_b2_1e_fa_61_rot_jpeg.rf.19bf28b1c5ac57c0b3f0a470a5037937.jpg: 640x640 16 cutfolds, 16 folds, 13 holes, 3 perforators, 1.5ms\n",
      "image 93/163 /home/default/data_black/test/images/df_ea_e9_b2_1e_fa_78_rot_jpeg.rf.e569dfef84b7c18905c23445aa0eba39.jpg: 640x640 16 cutfolds, 16 folds, 13 holes, 4 perforators, 1.6ms\n",
      "image 94/163 /home/default/data_black/test/images/df_ea_e9_b2_1e_fa_80_rot_jpeg.rf.9c002c60afe1f419ae8c5f803c3c20dc.jpg: 640x640 18 cutfolds, 16 folds, 13 holes, 3 perforators, 1.5ms\n",
      "image 95/163 /home/default/data_black/test/images/df_ea_e9_b2_1e_fa_81_rot_jpeg.rf.ab9ad6451e7e3abf1ab28a804ea5759e.jpg: 640x640 16 cutfolds, 16 folds, 13 holes, 3 perforators, 1.5ms\n",
      "image 96/163 /home/default/data_black/test/images/df_ea_e9_b2_1e_fa_82_rot_jpeg.rf.f1996ee48b04a56076499f031f90bebd.jpg: 640x640 16 cutfolds, 16 folds, 13 holes, 4 perforators, 1.5ms\n",
      "image 97/163 /home/default/data_black/test/images/df_ea_e9_b2_1e_fa_97_rot_jpeg.rf.bfcd2473d2449517fb35015fd9cadbf2.jpg: 640x640 16 cutfolds, 16 folds, 13 holes, 5 perforators, 1.5ms\n",
      "image 98/163 /home/default/data_black/test/images/e1_cf_9b_63_ed_b2_4_rot_jpeg.rf.5de20d0a58ff516c2fc939092d0a5aec.jpg: 640x640 86 folds, 18 holes, 8 perforators, 1.9ms\n",
      "image 99/163 /home/default/data_black/test/images/e2_73_e4_bd_3e_da_8_rot_jpeg.rf.cda777e8146298db0395414780799336.jpg: 640x640 40 cutfolds, 39 folds, 10 holes, 2 perforators, 1.5ms\n",
      "image 100/163 /home/default/data_black/test/images/e4_ab_64_57_2d_f8_0_rot_jpeg.rf.791007cc1a7e33fa6cb5de863b2f208e.jpg: 640x640 1 cutfold, 37 folds, 7 holes, 6 perforators, 1.5ms\n",
      "image 101/163 /home/default/data_black/test/images/e6_92_7a_2a_e8_53_17_rot_jpeg.rf.0c0d09f87652ef81e12cf002719691b4.jpg: 640x640 24 cutfolds, 1 fold, 2 holes, 80 perforators, 1.5ms\n",
      "image 102/163 /home/default/data_black/test/images/e9_33_a5_2c_39_14_0_rot_jpeg.rf.66d0daa092ee48cd5ed5cf9679cd33a5.jpg: 640x640 12 cutfolds, 35 folds, 4 holes, 107 perforators, 1.8ms\n",
      "image 103/163 /home/default/data_black/test/images/e9_33_a5_2c_39_14_15_rot_jpeg.rf.08671da6a7445ed813cbaa9224ade318.jpg: 640x640 14 cutfolds, 37 folds, 4 holes, 114 perforators, 1.5ms\n",
      "image 104/163 /home/default/data_black/test/images/eb_41_99_60_73_03_15_rot_jpeg.rf.9f70b3f178088fc0689a9f2680c0ce7e.jpg: 640x640 44 folds, 35 holes, 3 perforators, 1.8ms\n",
      "image 105/163 /home/default/data_black/test/images/eb_41_99_60_73_03_21_rot_jpeg.rf.e285d1ce9b8ff953a422ccdf5e761afe.jpg: 640x640 44 folds, 36 holes, 4 perforators, 1.7ms\n",
      "image 106/163 /home/default/data_black/test/images/eb_41_99_60_73_03_59_rot_jpeg.rf.c1f5e0d1fd1dcbe46b5823e941c0682d.jpg: 640x640 44 folds, 37 holes, 4 perforators, 1.8ms\n",
      "image 107/163 /home/default/data_black/test/images/eb_41_99_60_73_03_65_rot_jpeg.rf.cc6617960b13989fbcbabd76df384cbb.jpg: 640x640 44 folds, 40 holes, 4 perforators, 1.5ms\n",
      "image 108/163 /home/default/data_black/test/images/eb_41_99_60_73_03_66_rot_jpeg.rf.991f0948f974ef21fda1cb3a022a6809.jpg: 640x640 44 folds, 39 holes, 4 perforators, 1.5ms\n",
      "image 109/163 /home/default/data_black/test/images/eb_41_99_60_73_03_68_rot_jpeg.rf.b291195106ff88971e8d6c74d887f3a7.jpg: 640x640 44 folds, 36 holes, 3 perforators, 1.7ms\n",
      "image 110/163 /home/default/data_black/test/images/eb_41_99_60_73_03_89_rot_jpeg.rf.e3b96faab842eda41eb60fcda8ac50a4.jpg: 640x640 44 folds, 35 holes, 3 perforators, 1.5ms\n",
      "image 111/163 /home/default/data_black/test/images/eb_41_99_60_73_03_9_rot_jpeg.rf.b8688a80942d057b5f1e3222b5b45604.jpg: 640x640 44 folds, 34 holes, 3 perforators, 1.5ms\n",
      "image 112/163 /home/default/data_black/test/images/ec_02_45_2f_66_74_1_rot_jpeg.rf.1e54a44519273bc73e81d09ae574fbb8.jpg: 640x640 64 cutfolds, 69 folds, 4 holes, 141 perforators, 1.5ms\n",
      "image 113/163 /home/default/data_black/test/images/ec_df_54_94_85_38_0_rot_jpeg.rf.9e5d3d384b88e639b6a3c9df9c40c8a5.jpg: 640x640 1 cutfold, 21 folds, 12 holes, 1.6ms\n",
      "image 114/163 /home/default/data_black/test/images/ed_f8_7f_fd_d6_70_8_rot_jpeg.rf.b0260b987394afa80bbdc5a7579f7507.jpg: 640x640 114 folds, 22 holes, 15 perforators, 1.5ms\n",
      "image 115/163 /home/default/data_black/test/images/ee_1e_dc_6d_d0_b7_24_rot_jpeg.rf.050402798d9413d74e09f3de9eba7fff.jpg: 640x640 55 folds, 22 holes, 7 perforators, 1.5ms\n",
      "image 116/163 /home/default/data_black/test/images/ee_1e_dc_6d_d0_b7_28_rot_jpeg.rf.ef96eaa7df0b40d25e198f1e01486ee9.jpg: 640x640 55 folds, 22 holes, 6 perforators, 1.5ms\n",
      "image 117/163 /home/default/data_black/test/images/ee_1e_dc_6d_d0_b7_32_rot_jpeg.rf.7c5b9d16ce002eedd12597d53c3ec866.jpg: 640x640 54 folds, 22 holes, 7 perforators, 1.5ms\n",
      "image 118/163 /home/default/data_black/test/images/ee_1e_dc_6d_d0_b7_33_rot_jpeg.rf.46eec12ea5052440ced3918e0c136206.jpg: 640x640 54 folds, 22 holes, 8 perforators, 1.5ms\n",
      "image 119/163 /home/default/data_black/test/images/ee_1e_dc_6d_d0_b7_7_rot_jpeg.rf.f981ee4b108e67485618a158c9ce5013.jpg: 640x640 61 folds, 19 holes, 6 perforators, 1.4ms\n",
      "image 120/163 /home/default/data_black/test/images/ee_df_2f_f5_e9_6e_7_rot_jpeg.rf.fa2610685a79eed566c4f24661ac1353.jpg: 640x640 24 cutfolds, 22 folds, 4 holes, 109 perforators, 1.5ms\n",
      "image 121/163 /home/default/data_black/test/images/ee_fb_87_ad_47_19_12_rot_jpeg.rf.4f23a46410e3c80bfdfa43cf3b4109a9.jpg: 640x640 18 cutfolds, 27 folds, 12 holes, 7 perforators, 1.5ms\n",
      "image 122/163 /home/default/data_black/test/images/ee_fb_87_ad_47_19_19_rot_jpeg.rf.3c1e1a17b1f63c903b883f39467a8e8f.jpg: 640x640 17 cutfolds, 28 folds, 12 holes, 9 perforators, 1.5ms\n",
      "image 123/163 /home/default/data_black/test/images/ee_fb_87_ad_47_19_26_rot_jpeg.rf.54469e8b435ce8a98989c471e2204999.jpg: 640x640 16 cutfolds, 27 folds, 12 holes, 10 perforators, 1.5ms\n",
      "image 124/163 /home/default/data_black/test/images/ef_49_73_c7_f9_ed_1_rot_jpeg.rf.836270ef9f24c66c2c7a38f4e301a4c7.jpg: 640x640 18 folds, 7 holes, 17 perforators, 1.5ms\n",
      "image 125/163 /home/default/data_black/test/images/ef_f0_22_2f_ab_11_16_rot_jpeg.rf.7f52ff3fd05a0cf62c66f2570017e680.jpg: 640x640 24 folds, 4 holes, 122 perforators, 1.4ms\n",
      "image 126/163 /home/default/data_black/test/images/ef_f0_22_2f_ab_11_17_rot_jpeg.rf.fff4ced04ced912967714f4bfcb99857.jpg: 640x640 23 folds, 5 holes, 121 perforators, 1.5ms\n",
      "image 127/163 /home/default/data_black/test/images/ef_f0_22_2f_ab_11_2_rot_jpeg.rf.eeaf97c92a7602f8bd3d22dc6ebefc9d.jpg: 640x640 21 folds, 4 holes, 122 perforators, 1.5ms\n",
      "image 128/163 /home/default/data_black/test/images/ef_f0_22_2f_ab_11_33_rot_jpeg.rf.ca21736955a0526cf84c257bc51f938a.jpg: 640x640 22 folds, 6 holes, 125 perforators, 1.5ms\n",
      "image 129/163 /home/default/data_black/test/images/ef_f0_22_2f_ab_11_40_rot_jpeg.rf.18b10317a9115ea9debfd7cbf6a3f5e0.jpg: 640x640 22 folds, 6 holes, 123 perforators, 1.5ms\n",
      "image 130/163 /home/default/data_black/test/images/ef_f0_22_2f_ab_11_48_rot_jpeg.rf.697d18d1533937d236f8e4c712a22f20.jpg: 640x640 23 folds, 5 holes, 117 perforators, 1.5ms\n",
      "image 131/163 /home/default/data_black/test/images/ef_f0_22_2f_ab_11_50_rot_jpeg.rf.75e5c27482235eab11d77b429fe79a86.jpg: 640x640 24 folds, 5 holes, 122 perforators, 1.5ms\n",
      "image 132/163 /home/default/data_black/test/images/ef_f0_22_2f_ab_11_5_rot_jpeg.rf.31ec9c6944984dfb83bf25ea2a5922a7.jpg: 640x640 37 folds, 4 holes, 114 perforators, 1.5ms\n",
      "image 133/163 /home/default/data_black/test/images/ef_f0_22_2f_ab_11_c_16_rot_jpeg.rf.fe5afc36fd6584651a5052c2ba319b2a.jpg: 640x640 25 folds, 5 holes, 123 perforators, 1.6ms\n",
      "image 134/163 /home/default/data_black/test/images/ef_f0_22_2f_ab_11_c_18_rot_jpeg.rf.dbd975a7b3a6e6ef70042cf7206e9227.jpg: 640x640 28 folds, 6 holes, 121 perforators, 1.6ms\n",
      "image 135/163 /home/default/data_black/test/images/ef_f0_22_2f_ab_11_c_22_rot_jpeg.rf.889a8a551092a92e412bc5edf6b2aa08.jpg: 640x640 24 folds, 7 holes, 127 perforators, 1.6ms\n",
      "image 136/163 /home/default/data_black/test/images/ef_f0_22_2f_ab_11_c_32_rot_jpeg.rf.d042ff6394446ac6d5288db83a47d573.jpg: 640x640 29 folds, 6 holes, 122 perforators, 1.5ms\n",
      "image 137/163 /home/default/data_black/test/images/ef_f0_22_2f_ab_11_c_41_rot_jpeg.rf.87a890840486bc3b8e9343244b3fd57a.jpg: 640x640 26 folds, 6 holes, 122 perforators, 1.7ms\n",
      "image 138/163 /home/default/data_black/test/images/ef_f0_22_2f_ab_11_c_50_rot_jpeg.rf.1afdde3693c0d0d094364fd685a510a8.jpg: 640x640 26 folds, 5 holes, 122 perforators, 1.5ms\n",
      "image 139/163 /home/default/data_black/test/images/f1_5f_63_69_6b_ef_8_rot_jpeg.rf.298ac35d301f061dd4bb0cc4de92a967.jpg: 640x640 16 folds, 18 holes, 45 perforators, 1.7ms\n",
      "image 140/163 /home/default/data_black/test/images/f3_f8_fa_8b_b7_76_13_rot_jpeg.rf.015be39e9aaaf35849e591f04dd6208d.jpg: 640x640 2 cutfolds, 9 folds, 6 holes, 135 perforators, 1.5ms\n",
      "image 141/163 /home/default/data_black/test/images/f3_f8_fa_8b_b7_76_26_rot_jpeg.rf.eb07058e6bbc036f6ee6f15ea6ce3102.jpg: 640x640 3 cutfolds, 9 folds, 6 holes, 139 perforators, 1.5ms\n",
      "image 142/163 /home/default/data_black/test/images/f3_f8_fa_8b_b7_76_28_rot_jpeg.rf.79fb2231834eee9d6cbb1318eac96655.jpg: 640x640 3 cutfolds, 9 folds, 6 holes, 135 perforators, 1.5ms\n",
      "image 143/163 /home/default/data_black/test/images/f3_f8_fa_8b_b7_76_4_rot_jpeg.rf.a06b012620d59f9d66f4bfe12df4726a.jpg: 640x640 3 cutfolds, 9 folds, 7 holes, 137 perforators, 1.5ms\n",
      "image 144/163 /home/default/data_black/test/images/f5_13_08_a6_01_ce_15_rot_jpeg.rf.f055f9926bf994704c19646e22b590e8.jpg: 640x640 36 folds, 15 holes, 6 perforators, 1.5ms\n",
      "image 145/163 /home/default/data_black/test/images/f5_13_08_a6_01_ce_1_rot_jpeg.rf.363bde65e6cc89653e4adb2fb2afa613.jpg: 640x640 36 folds, 15 holes, 5 perforators, 1.5ms\n",
      "image 146/163 /home/default/data_black/test/images/f5_13_08_a6_01_ce_21_rot_jpeg.rf.b75bcf9a643adff25ea525dbe53fad14.jpg: 640x640 36 folds, 15 holes, 5 perforators, 1.5ms\n",
      "image 147/163 /home/default/data_black/test/images/f5_13_08_a6_01_ce_34_rot_jpeg.rf.21425d4305aa17f19639e22f6e525059.jpg: 640x640 36 folds, 15 holes, 5 perforators, 1.5ms\n",
      "image 148/163 /home/default/data_black/test/images/f5_13_08_a6_01_ce_3_rot_jpeg.rf.04df2c7b50961c854bc4c5204f88aa38.jpg: 640x640 36 folds, 15 holes, 6 perforators, 1.5ms\n",
      "image 149/163 /home/default/data_black/test/images/f5_13_08_a6_01_ce_57_rot_jpeg.rf.76c974a081403a6ee875e2dc59c5a2c4.jpg: 640x640 36 folds, 15 holes, 5 perforators, 1.4ms\n",
      "image 150/163 /home/default/data_black/test/images/f5_13_08_a6_01_ce_69_rot_jpeg.rf.cd5d9111bf32e86e33fd087190cf93d2.jpg: 640x640 36 folds, 15 holes, 5 perforators, 1.4ms\n",
      "image 151/163 /home/default/data_black/test/images/f5_ce_af_aa_d1_ce_19_rot_jpeg.rf.542d64f0611fad342e01f2dd3a14a395.jpg: 640x640 107 folds, 28 holes, 30 perforators, 1.6ms\n",
      "image 152/163 /home/default/data_black/test/images/f5_ce_af_aa_d1_ce_24_rot_jpeg.rf.6a7c0544ab9e3c721fd7fef19ccc6fff.jpg: 640x640 113 folds, 29 holes, 27 perforators, 1.5ms\n",
      "image 153/163 /home/default/data_black/test/images/f8_18_38_7d_e8_97_5_rot_jpeg.rf.f282592998dfb57c59c6de3061abac5b.jpg: 640x640 27 cutfolds, 17 folds, 4 holes, 125 perforators, 1.5ms\n",
      "image 154/163 /home/default/data_black/test/images/f9_b1_d9_e8_09_55_1_rot_jpeg.rf.a89bde63b577f161685a0735fadb23fe.jpg: 640x640 34 folds, 5 holes, 6 perforators, 1.5ms\n",
      "image 155/163 /home/default/data_black/test/images/f9_ba_e4_73_19_bc_6_rot_jpeg.rf.3c0bd2ad533114816f2471a8bb5942c5.jpg: 640x640 3 cutfolds, 42 folds, 6 holes, 26 perforators, 1.4ms\n",
      "image 156/163 /home/default/data_black/test/images/fa_08_f7_4c_39_1c_26_rot_jpeg.rf.4462ec0c49f5ee03ca629addf99fc89e.jpg: 640x640 16 cutfolds, 16 folds, 13 holes, 4 perforators, 1.5ms\n",
      "image 157/163 /home/default/data_black/test/images/fa_08_f7_4c_39_1c_30_rot_jpeg.rf.d34878a668c1a9b1ab5e5f6afc55d469.jpg: 640x640 23 cutfolds, 16 folds, 13 holes, 4 perforators, 1.5ms\n",
      "image 158/163 /home/default/data_black/test/images/fe_d8_46_c3_73_3e_4_rot_jpeg.rf.9665a86cc89ada4bfa5107ac9ef05435.jpg: 640x640 55 folds, 24 holes, 17 perforators, 1.4ms\n",
      "image 159/163 /home/default/data_black/test/images/ff_1a_43_c8_f5_2f_15_rot_jpeg.rf.6b7be135fa814ae866d6e513cacf646a.jpg: 640x640 16 cutfolds, 30 folds, 17 holes, 2 perforators, 1.4ms\n",
      "image 160/163 /home/default/data_black/test/images/ff_1a_43_c8_f5_2f_18_rot_jpeg.rf.5d31d72112c204b46b62990576637d9f.jpg: 640x640 16 cutfolds, 28 folds, 17 holes, 2 perforators, 1.8ms\n",
      "image 161/163 /home/default/data_black/test/images/ff_1a_43_c8_f5_2f_19_rot_jpeg.rf.b04a626004ffa23269982ae5f64169f6.jpg: 640x640 19 cutfolds, 28 folds, 16 holes, 2 perforators, 1.5ms\n",
      "image 162/163 /home/default/data_black/test/images/ff_1a_43_c8_f5_2f_30_rot_jpeg.rf.fc727d2400b017276b9d2984d9fe98d3.jpg: 640x640 19 cutfolds, 29 folds, 16 holes, 2 perforators, 1.5ms\n",
      "image 163/163 /home/default/data_black/test/images/producer_check_100524070520763434_rot_jpeg.rf.693d9436a584f28a7df0be29e3a5c45c.jpg: 640x640 60 folds, 10 holes, 16 perforators, 1.6ms\n",
      "Speed: 0.2ms pre-process, 1.5ms inference, 0.7ms NMS per image at shape (1, 3, 640, 640)\n",
      "Results saved to \u001b[1mruns/detect/exp9\u001b[0m\n",
      "163 labels saved to runs/detect/exp9/labels\n"
     ]
    }
   ],
   "source": [
    "!python3 detect.py --weights runs/train/exp15/weights/best.pt --img 640 --source ../data_black/test/images --line-thickness 1 --save-txt"
   ]
  },
  {
   "cell_type": "code",
   "execution_count": 49,
   "metadata": {
    "id": "3-mQWxhfPRQE",
    "outputId": "62120a2a-a624-49ed-fae6-f9a62aa38777"
   },
   "outputs": [],
   "source": [
    "#display inference on ALL test images\n",
    "#this looks much better with longer training above\n",
    "\n",
    "import glob\n",
    "from IPython.display import Image, display\n",
    "\n",
    "for imageName in glob.glob('runs/detect/exp9/*.jpeg'): #assuming JPG\n",
    "    display(Image(filename=imageName))\n",
    "    print(\"\\n\")"
   ]
  },
  {
   "cell_type": "markdown",
   "metadata": {},
   "source": [
    "# inference"
   ]
  },
  {
   "cell_type": "code",
   "execution_count": 50,
   "metadata": {},
   "outputs": [
    {
     "name": "stdout",
     "output_type": "stream",
     "text": [
      "\u001b[34m\u001b[1mdetect: \u001b[0mweights=['runs/train/exp15/weights/best.pt'], source=./../cartone_edit.png, data=data/coco128.yaml, imgsz=[640, 640], conf_thres=0.25, iou_thres=0.45, max_det=1000, device=, view_img=False, save_txt=True, save_csv=False, save_conf=False, save_crop=False, nosave=False, classes=None, agnostic_nms=False, augment=False, visualize=False, update=False, project=runs/detect, name=exp, exist_ok=False, line_thickness=1, hide_labels=False, hide_conf=False, half=False, dnn=False, vid_stride=1\n",
      "YOLOv5 🚀 v7.0-312-g1bcd17ee Python-3.10.12 torch-2.3.0+cu121 CUDA:0 (NVIDIA GeForce RTX 4080 SUPER, 16064MiB)\n",
      "\n",
      "Fusing layers... \n",
      "Model summary: 157 layers, 7020913 parameters, 0 gradients, 15.8 GFLOPs\n",
      "image 1/1 /home/default/cartone_edit.png: 640x640 36 folds, 14 holes, 4 perforators, 1.5ms\n",
      "Speed: 0.2ms pre-process, 1.5ms inference, 49.1ms NMS per image at shape (1, 3, 640, 640)\n",
      "Results saved to \u001b[1mruns/detect/exp10\u001b[0m\n",
      "1 labels saved to runs/detect/exp10/labels\n"
     ]
    }
   ],
   "source": [
    "!python3 detect.py --weights runs/train/exp15/weights/best.pt --img 640 --source ./../cartone_edit.png --line-thickness 1 --save-txt"
   ]
  }
 ],
 "metadata": {
  "kernelspec": {
   "display_name": "Python 3 (ipykernel)",
   "language": "python",
   "name": "python3"
  },
  "language_info": {
   "codemirror_mode": {
    "name": "ipython",
    "version": 3
   },
   "file_extension": ".py",
   "mimetype": "text/x-python",
   "name": "python",
   "nbconvert_exporter": "python",
   "pygments_lexer": "ipython3",
   "version": "3.10.12"
  }
 },
 "nbformat": 4,
 "nbformat_minor": 4
}
