{
 "cells": [
  {
   "cell_type": "markdown",
   "metadata": {
    "id": "YTK7kmoTPRP6"
   },
   "source": [
    "# Imports and Setup"
   ]
  },
  {
   "cell_type": "code",
   "execution_count": 1,
   "metadata": {
    "id": "5Af9NNQHRRPW"
   },
   "outputs": [
    {
     "name": "stdout",
     "output_type": "stream",
     "text": [
      "KW2GX2IN2YCKZLNTUSDH\n",
      "OjO23n5avatAGjlAEkMjeyQrEZnW1ejOz600Z4JcKdcNttGDjO\n"
     ]
    }
   ],
   "source": [
    "%load_ext autoreload\n",
    "%autoreload 2\n",
    "    \n",
    "# Necessary/extra dependencies. \n",
    "import shutil\n",
    "\n",
    "#customize iPython writefile so we can write variables\n",
    "from IPython.core.magic import register_line_cell_magic\n",
    "\n",
    "@register_line_cell_magic\n",
    "def writetemplate(line, cell):\n",
    "    with open(line, 'w') as f:\n",
    "        f.write(cell.format(**globals()))\n",
    "\n",
    "# ClearML\n",
    "from clearml import Task\n",
    "import dotenv\n",
    "dotenv.load_dotenv()\n",
    "!echo $CLEARML_API_ACCESS_KEY\n",
    "!echo $CLEARML_API_SECRET_KEY"
   ]
  },
  {
   "cell_type": "markdown",
   "metadata": {
    "id": "UTiYLaNfPRQB"
   },
   "source": [
    "Move `data.yaml` in the `yolov5/data` directory."
   ]
  },
  {
   "cell_type": "code",
   "execution_count": 3,
   "metadata": {},
   "outputs": [
    {
     "name": "stdout",
     "output_type": "stream",
     "text": [
      " \u001b[0m\u001b[01;34mdata\u001b[0m/                                     main_train.py\n",
      " \u001b[01;34mdataset\u001b[0m/                                  nohup.out\n",
      " data.yaml                                 README.dataset.txt\n",
      " Dockerfile                                README.md\n",
      " Dockerfile_jetson                         README.roboflow.txt\n",
      "\u001b[01;31m'folds - negative.v2i.yolov5pytorch.zip'\u001b[0m   requirements_jetson.txt\n",
      " LICENSE                                   requirements.txt\n",
      " main_inference.py                         yolov5.ipynb\n"
     ]
    }
   ],
   "source": [
    "%ls"
   ]
  },
  {
   "cell_type": "code",
   "execution_count": 5,
   "metadata": {
    "scrolled": true
   },
   "outputs": [
    {
     "data": {
      "text/plain": [
       "'./yolov5/data/data.yaml'"
      ]
     },
     "execution_count": 5,
     "metadata": {},
     "output_type": "execute_result"
    }
   ],
   "source": [
    "shutil.copy('./data/data.yaml', './yolov5/data')"
   ]
  },
  {
   "cell_type": "markdown",
   "metadata": {
    "id": "ZY2VXXXu74w5"
   },
   "source": [
    "# 2.Train\n",
    "\n",
    "Train a YOLOv5s model on the custom dataset starting from pretrained `--weights yolov5s.pt`. Training results are saved to `runs/train/` with incrementing run directories, i.e. `runs/train/exp2`, `runs/train/exp3` etc."
   ]
  },
  {
   "cell_type": "code",
   "execution_count": 6,
   "metadata": {},
   "outputs": [
    {
     "name": "stdout",
     "output_type": "stream",
     "text": [
      "/home/iseng/fmonti/cardboard_yolo/yolov5/data\n",
      "\u001b[0m\u001b[01;34mimages\u001b[0m/  \u001b[01;34mlabels\u001b[0m/\n"
     ]
    },
    {
     "name": "stderr",
     "output_type": "stream",
     "text": [
      "/home/iseng/miniconda3/envs/rota/lib/python3.10/site-packages/IPython/core/magics/osm.py:417: UserWarning: This is now an optional IPython functionality, setting dhist requires you to install the `pickleshare` library.\n",
      "  self.shell.db['dhist'] = compress_dhist(dhist)[-100:]\n"
     ]
    },
    {
     "name": "stdout",
     "output_type": "stream",
     "text": [
      "/home/iseng/fmonti/cardboard_yolo/yolov5\n",
      "benchmarks.py    \u001b[0m\u001b[01;34mdata\u001b[0m/       LICENSE         README.zh-CN.md   tutorial.ipynb\n",
      "CITATION.cff     detect.py   \u001b[01;34mmodels\u001b[0m/         requirements.txt  \u001b[01;34mutils\u001b[0m/\n",
      "\u001b[01;34mclassify\u001b[0m/        export.py   pyproject.toml  \u001b[01;34msegment\u001b[0m/          val.py\n",
      "CONTRIBUTING.md  hubconf.py  README.md       train.py\n"
     ]
    }
   ],
   "source": [
    "%cd yolov5/data\n",
    "%ls ../../data/train\n",
    "%cd ..\n",
    "%ls"
   ]
  },
  {
   "cell_type": "code",
   "execution_count": 21,
   "metadata": {
    "scrolled": true
   },
   "outputs": [
    {
     "name": "stderr",
     "output_type": "stream",
     "text": [
      "Jupyter Notebook auto-logging failed, could not access: /home/iseng/fmonti/cardboard_yolo/yolov5/yolov5.ipynb\n"
     ]
    },
    {
     "name": "stdout",
     "output_type": "stream",
     "text": [
      "ClearML Task: created new task id=c703913bf61447d18633b365dda38295\n",
      "ClearML results page: https://app.clear.ml/projects/e9ac8f93b6aa41df88278a75e6c3909d/experiments/c703913bf61447d18633b365dda38295/output/log\n",
      "ClearML Monitor: Could not detect iteration reporting, falling back to iterations as seconds-from-start\n"
     ]
    }
   ],
   "source": [
    "task = Task.init(project_name='yolov5', task_name='dataset_fold_aug')"
   ]
  },
  {
   "cell_type": "code",
   "execution_count": 22,
   "metadata": {
    "id": "iajBrcgKPRQD",
    "outputId": "cf7a139c-8cfb-44e4-cd3f-b6af1f21b58d",
    "scrolled": true
   },
   "outputs": [
    {
     "name": "stdout",
     "output_type": "stream",
     "text": [
      "\u001b[34m\u001b[1mtrain: \u001b[0mweights=yolov5s.pt, cfg=, data=data/data.yaml, hyp=data/hyps/hyp.scratch-low.yaml, epochs=300, batch_size=64, imgsz=640, rect=False, resume=False, nosave=False, noval=False, noautoanchor=False, noplots=False, evolve=None, evolve_population=data/hyps, resume_evolve=None, bucket=, cache=ram, image_weights=False, device=, multi_scale=False, single_cls=False, optimizer=SGD, sync_bn=False, workers=8, project=runs/train, name=exp, exist_ok=False, quad=False, cos_lr=False, label_smoothing=0.0, patience=100, freeze=[0], save_period=-1, seed=0, local_rank=-1, entity=None, upload_dataset=False, bbox_interval=-1, artifact_alias=latest, ndjson_console=False, ndjson_file=False\n",
      "\u001b[34m\u001b[1mgithub: \u001b[0mup to date with https://github.com/ultralytics/yolov5 ✅\n",
      "YOLOv5 🚀 v7.0-321-g3742ab49 Python-3.10.14 torch-2.3.1+cu121 CUDA:0 (NVIDIA GeForce RTX 3090, 24252MiB)\n",
      "\n",
      "\u001b[34m\u001b[1mhyperparameters: \u001b[0mlr0=0.01, lrf=0.01, momentum=0.937, weight_decay=0.0005, warmup_epochs=3.0, warmup_momentum=0.8, warmup_bias_lr=0.1, box=0.05, cls=0.5, cls_pw=1.0, obj=1.0, obj_pw=1.0, iou_t=0.2, anchor_t=4.0, fl_gamma=0.0, hsv_h=0.015, hsv_s=0.7, hsv_v=0.4, degrees=0.0, translate=0.1, scale=0.5, shear=0.0, perspective=0.0, flipud=0.0, fliplr=0.5, mosaic=1.0, mixup=0.0, copy_paste=0.0\n",
      "\u001b[34m\u001b[1mComet: \u001b[0mrun 'pip install comet_ml' to automatically track and visualize YOLOv5 🚀 runs in Comet\n",
      "\u001b[34m\u001b[1mTensorBoard: \u001b[0mStart with 'tensorboard --logdir runs/train', view at http://localhost:6006/\n",
      "Overriding model.yaml nc=80 with nc=1\n",
      "\n",
      "                 from  n    params  module                                  arguments                     \n",
      "  0                -1  1      3520  models.common.Conv                      [3, 32, 6, 2, 2]              \n",
      "  1                -1  1     18560  models.common.Conv                      [32, 64, 3, 2]                \n",
      "  2                -1  1     18816  models.common.C3                        [64, 64, 1]                   \n",
      "  3                -1  1     73984  models.common.Conv                      [64, 128, 3, 2]               \n",
      "  4                -1  2    115712  models.common.C3                        [128, 128, 2]                 \n",
      "  5                -1  1    295424  models.common.Conv                      [128, 256, 3, 2]              \n",
      "  6                -1  3    625152  models.common.C3                        [256, 256, 3]                 \n",
      "  7                -1  1   1180672  models.common.Conv                      [256, 512, 3, 2]              \n",
      "  8                -1  1   1182720  models.common.C3                        [512, 512, 1]                 \n",
      "  9                -1  1    656896  models.common.SPPF                      [512, 512, 5]                 \n",
      " 10                -1  1    131584  models.common.Conv                      [512, 256, 1, 1]              \n",
      " 11                -1  1         0  torch.nn.modules.upsampling.Upsample    [None, 2, 'nearest']          \n",
      " 12           [-1, 6]  1         0  models.common.Concat                    [1]                           \n",
      " 13                -1  1    361984  models.common.C3                        [512, 256, 1, False]          \n",
      " 14                -1  1     33024  models.common.Conv                      [256, 128, 1, 1]              \n",
      " 15                -1  1         0  torch.nn.modules.upsampling.Upsample    [None, 2, 'nearest']          \n",
      " 16           [-1, 4]  1         0  models.common.Concat                    [1]                           \n",
      " 17                -1  1     90880  models.common.C3                        [256, 128, 1, False]          \n",
      " 18                -1  1    147712  models.common.Conv                      [128, 128, 3, 2]              \n",
      " 19          [-1, 14]  1         0  models.common.Concat                    [1]                           \n",
      " 20                -1  1    296448  models.common.C3                        [256, 256, 1, False]          \n",
      " 21                -1  1    590336  models.common.Conv                      [256, 256, 3, 2]              \n",
      " 22          [-1, 10]  1         0  models.common.Concat                    [1]                           \n",
      " 23                -1  1   1182720  models.common.C3                        [512, 512, 1, False]          \n",
      " 24      [17, 20, 23]  1     16182  models.yolo.Detect                      [1, [[10, 13, 16, 30, 33, 23], [30, 61, 62, 45, 59, 119], [116, 90, 156, 198, 373, 326]], [128, 256, 512]]\n",
      "Model summary: 214 layers, 7022326 parameters, 7022326 gradients, 15.9 GFLOPs\n",
      "\n",
      "Transferred 343/349 items from yolov5s.pt\n",
      "\u001b[34m\u001b[1mAMP: \u001b[0mchecks passed ✅\n",
      "\u001b[34m\u001b[1moptimizer:\u001b[0m SGD(lr=0.01) with parameter groups 57 weight(decay=0.0), 60 weight(decay=0.0005), 60 bias\n",
      "\u001b[34m\u001b[1mtrain: \u001b[0mScanning /home/iseng/fmonti/cardboard_yolo/data/train/labels... 3278 imag\u001b[0m\n",
      "\u001b[34m\u001b[1mtrain: \u001b[0mNew cache created: /home/iseng/fmonti/cardboard_yolo/data/train/labels.cache\n",
      "\u001b[34m\u001b[1mtrain: \u001b[0mCaching images (3.8GB ram): 100%|██████████| 3278/3278 [00:00<00:00, 5293\u001b[0m\n",
      "\u001b[34m\u001b[1mval: \u001b[0mScanning /home/iseng/fmonti/cardboard_yolo/data/valid/labels... 348 images,\u001b[0m\n",
      "\u001b[34m\u001b[1mval: \u001b[0mNew cache created: /home/iseng/fmonti/cardboard_yolo/data/valid/labels.cache\n",
      "\u001b[34m\u001b[1mval: \u001b[0mCaching images (0.4GB ram): 100%|██████████| 348/348 [00:00<00:00, 1632.76i\u001b[0m\n",
      "\n",
      "\u001b[34m\u001b[1mAutoAnchor: \u001b[0m3.64 anchors/target, 0.988 Best Possible Recall (BPR). Current anchors are a good fit to dataset ✅\n",
      "Plotting labels to runs/train/exp/labels.jpg... \n",
      "Image sizes 640 train, 640 val\n",
      "Using 8 dataloader workers\n",
      "Logging results to \u001b[1mruns/train/exp\u001b[0m\n",
      "Starting training for 300 epochs...\n",
      "\n",
      "      Epoch    GPU_mem   box_loss   obj_loss   cls_loss  Instances       Size\n",
      "  0%|          | 0/52 [00:01<?, ?it/s]\n",
      "Traceback (most recent call last):\n",
      "  File \"/home/iseng/fmonti/cardboard_yolo/yolov5/train.py\", line 848, in <module>\n",
      "    main(opt)\n",
      "  File \"/home/iseng/fmonti/cardboard_yolo/yolov5/train.py\", line 623, in main\n",
      "    train(opt.hyp, opt, device, callbacks)\n",
      "  File \"/home/iseng/fmonti/cardboard_yolo/yolov5/train.py\", line 382, in train\n",
      "    pred = model(imgs)  # forward\n",
      "  File \"/home/iseng/miniconda3/envs/rota/lib/python3.10/site-packages/torch/nn/modules/module.py\", line 1532, in _wrapped_call_impl\n",
      "    return self._call_impl(*args, **kwargs)\n",
      "  File \"/home/iseng/miniconda3/envs/rota/lib/python3.10/site-packages/torch/nn/modules/module.py\", line 1541, in _call_impl\n",
      "    return forward_call(*args, **kwargs)\n",
      "  File \"/home/iseng/fmonti/cardboard_yolo/yolov5/models/yolo.py\", line 263, in forward\n",
      "    return self._forward_once(x, profile, visualize)  # single-scale inference, train\n",
      "  File \"/home/iseng/fmonti/cardboard_yolo/yolov5/models/yolo.py\", line 167, in _forward_once\n",
      "    x = m(x)  # run\n",
      "  File \"/home/iseng/miniconda3/envs/rota/lib/python3.10/site-packages/torch/nn/modules/module.py\", line 1532, in _wrapped_call_impl\n",
      "    return self._call_impl(*args, **kwargs)\n",
      "  File \"/home/iseng/miniconda3/envs/rota/lib/python3.10/site-packages/torch/nn/modules/module.py\", line 1541, in _call_impl\n",
      "    return forward_call(*args, **kwargs)\n",
      "  File \"/home/iseng/fmonti/cardboard_yolo/yolov5/models/common.py\", line 238, in forward\n",
      "    return self.cv3(torch.cat((self.m(self.cv1(x)), self.cv2(x)), 1))\n",
      "  File \"/home/iseng/miniconda3/envs/rota/lib/python3.10/site-packages/torch/nn/modules/module.py\", line 1532, in _wrapped_call_impl\n",
      "    return self._call_impl(*args, **kwargs)\n",
      "  File \"/home/iseng/miniconda3/envs/rota/lib/python3.10/site-packages/torch/nn/modules/module.py\", line 1541, in _call_impl\n",
      "    return forward_call(*args, **kwargs)\n",
      "  File \"/home/iseng/miniconda3/envs/rota/lib/python3.10/site-packages/torch/nn/modules/container.py\", line 217, in forward\n",
      "    input = module(input)\n",
      "  File \"/home/iseng/miniconda3/envs/rota/lib/python3.10/site-packages/torch/nn/modules/module.py\", line 1532, in _wrapped_call_impl\n",
      "    return self._call_impl(*args, **kwargs)\n",
      "  File \"/home/iseng/miniconda3/envs/rota/lib/python3.10/site-packages/torch/nn/modules/module.py\", line 1541, in _call_impl\n",
      "    return forward_call(*args, **kwargs)\n",
      "  File \"/home/iseng/fmonti/cardboard_yolo/yolov5/models/common.py\", line 175, in forward\n",
      "    return x + self.cv2(self.cv1(x)) if self.add else self.cv2(self.cv1(x))\n",
      "  File \"/home/iseng/miniconda3/envs/rota/lib/python3.10/site-packages/torch/nn/modules/module.py\", line 1532, in _wrapped_call_impl\n",
      "    return self._call_impl(*args, **kwargs)\n",
      "  File \"/home/iseng/miniconda3/envs/rota/lib/python3.10/site-packages/torch/nn/modules/module.py\", line 1541, in _call_impl\n",
      "    return forward_call(*args, **kwargs)\n",
      "  File \"/home/iseng/fmonti/cardboard_yolo/yolov5/models/common.py\", line 86, in forward\n",
      "    return self.act(self.bn(self.conv(x)))\n",
      "  File \"/home/iseng/miniconda3/envs/rota/lib/python3.10/site-packages/torch/nn/modules/module.py\", line 1532, in _wrapped_call_impl\n",
      "    return self._call_impl(*args, **kwargs)\n",
      "  File \"/home/iseng/miniconda3/envs/rota/lib/python3.10/site-packages/torch/nn/modules/module.py\", line 1541, in _call_impl\n",
      "    return forward_call(*args, **kwargs)\n",
      "  File \"/home/iseng/miniconda3/envs/rota/lib/python3.10/site-packages/torch/nn/modules/activation.py\", line 396, in forward\n",
      "    return F.silu(input, inplace=self.inplace)\n",
      "  File \"/home/iseng/miniconda3/envs/rota/lib/python3.10/site-packages/torch/nn/functional.py\", line 2101, in silu\n",
      "    return torch._C._nn.silu_(input)\n",
      "torch.cuda.OutOfMemoryError: CUDA out of memory. Tried to allocate 14.00 MiB. GPU \n"
     ]
    }
   ],
   "source": [
    "!python3 train.py --img 640 --batch 64 --epochs 300 --data data/data.yaml --weights yolov5s.pt --cache"
   ]
  },
  {
   "cell_type": "code",
   "execution_count": 12,
   "metadata": {},
   "outputs": [],
   "source": [
    "task.close()"
   ]
  },
  {
   "cell_type": "markdown",
   "metadata": {
    "id": "4JnkELT0cIJg"
   },
   "source": [
    "# 3. Inference"
   ]
  },
  {
   "cell_type": "markdown",
   "metadata": {
    "id": "vhLbqgCnGDS8"
   },
   "source": [
    "We use the best weights for the inference"
   ]
  },
  {
   "cell_type": "code",
   "execution_count": 16,
   "metadata": {
    "scrolled": true
   },
   "outputs": [
    {
     "name": "stdout",
     "output_type": "stream",
     "text": [
      "benchmarks.py    detect.py   \u001b[0m\u001b[01;34m__pycache__\u001b[0m/      \u001b[01;34mruns\u001b[0m/           val.py\n",
      "CITATION.cff     export.py   pyproject.toml    \u001b[01;34msegment\u001b[0m/        yolov5s.pt\n",
      "\u001b[01;34mclassify\u001b[0m/        hubconf.py  README.md         train.py\n",
      "CONTRIBUTING.md  LICENSE     README.zh-CN.md   tutorial.ipynb\n",
      "\u001b[01;34mdata\u001b[0m/            \u001b[01;34mmodels\u001b[0m/     requirements.txt  \u001b[01;34mutils\u001b[0m/\n"
     ]
    }
   ],
   "source": [
    "%ls"
   ]
  },
  {
   "cell_type": "code",
   "execution_count": 14,
   "metadata": {
    "id": "zR9ZbuQCH7FX",
    "outputId": "7f3e9720-f9b3-4bb5-a4ea-ac2611b3dc69",
    "scrolled": true
   },
   "outputs": [
    {
     "name": "stdout",
     "output_type": "stream",
     "text": [
      "\u001b[34m\u001b[1mdetect: \u001b[0mweights=['runs/train/exp2/weights/best.pt'], source=../data/test/images, data=data/coco128.yaml, imgsz=[640, 640], conf_thres=0.25, iou_thres=0.45, max_det=1000, device=, view_img=False, save_txt=True, save_csv=False, save_conf=False, save_crop=False, nosave=False, classes=None, agnostic_nms=False, augment=False, visualize=False, update=False, project=runs/detect, name=exp, exist_ok=False, line_thickness=1, hide_labels=False, hide_conf=False, half=False, dnn=False, vid_stride=1\n",
      "YOLOv5 🚀 v7.0-321-g3742ab49 Python-3.10.14 torch-2.3.1+cu121 CUDA:0 (NVIDIA GeForce RTX 3090, 24252MiB)\n",
      "\n",
      "Fusing layers... \n",
      "Model summary: 157 layers, 7012822 parameters, 0 gradients, 15.8 GFLOPs\n",
      "image 1/175 /home/iseng/fmonti/cardboard_yolo/data/test/images/c1_51_b8_a0_61_d8_23_rot_jpeg.rf.a41c8fd7cc39994fd46a3e97a281549e.jpg: 640x640 44 folds, 3.3ms\n",
      "image 2/175 /home/iseng/fmonti/cardboard_yolo/data/test/images/c1_51_b8_a0_61_d8_7_rot_jpeg.rf.1c5b9c130d1e1664e6d9a58443a50948.jpg: 640x640 45 folds, 3.7ms\n",
      "image 3/175 /home/iseng/fmonti/cardboard_yolo/data/test/images/c1_67_62_22_6f_8f_1_rot_jpeg.rf.d74e9696c1dcd377f9cc735493ff5a7d.jpg: 640x640 38 folds, 3.2ms\n",
      "image 4/175 /home/iseng/fmonti/cardboard_yolo/data/test/images/c2_af_78_28_5f_4f_28_rot_jpeg.rf.73e90eb4e85043e98aa5be52524ab33e.jpg: 640x640 51 folds, 3.3ms\n",
      "image 5/175 /home/iseng/fmonti/cardboard_yolo/data/test/images/c2_af_78_28_5f_4f_41_rot_jpeg.rf.059f6c1d6c3b7dd07a2ce27bcaa93282.jpg: 640x640 62 folds, 3.2ms\n",
      "image 6/175 /home/iseng/fmonti/cardboard_yolo/data/test/images/c2_af_78_28_5f_4f_6_rot_jpeg.rf.37d789ab53ab62f4a6c2c1ee8eac3f03.jpg: 640x640 64 folds, 3.2ms\n",
      "image 7/175 /home/iseng/fmonti/cardboard_yolo/data/test/images/c2_da_c6_53_e2_68_1_rot_jpeg.rf.c10950b41c177f20c0f8df4a9899cdf1.jpg: 640x640 40 folds, 3.2ms\n",
      "image 8/175 /home/iseng/fmonti/cardboard_yolo/data/test/images/c3_85_eb_6a_eb_c4_13_rot_jpeg.rf.90abc7fff4e106a8ecc47a0538593dbf.jpg: 640x640 78 folds, 3.2ms\n",
      "image 9/175 /home/iseng/fmonti/cardboard_yolo/data/test/images/c3_85_eb_6a_eb_c4_18_rot_jpeg.rf.e775dda131d70dd0cd3d58baab7541e1.jpg: 640x640 80 folds, 3.2ms\n",
      "image 10/175 /home/iseng/fmonti/cardboard_yolo/data/test/images/c3_b2_2c_7e_29_0e_12_rot_jpeg.rf.dad193f87754845da40b513fd449dee8.jpg: 640x640 41 folds, 3.3ms\n",
      "image 11/175 /home/iseng/fmonti/cardboard_yolo/data/test/images/c3_b2_2c_7e_29_0e_15_rot_jpeg.rf.8ec56d5a60531c2f9f99d7425771c9b5.jpg: 640x640 41 folds, 3.2ms\n",
      "image 12/175 /home/iseng/fmonti/cardboard_yolo/data/test/images/c3_b2_2c_7e_29_0e_20_rot_jpeg.rf.5f6a16be5157a4292bf99216316d84a2.jpg: 640x640 45 folds, 3.2ms\n",
      "image 13/175 /home/iseng/fmonti/cardboard_yolo/data/test/images/c3_b2_2c_7e_29_0e_27_rot_jpeg.rf.7ca3aed1cf6d2c927484447a63115691.jpg: 640x640 44 folds, 3.2ms\n",
      "image 14/175 /home/iseng/fmonti/cardboard_yolo/data/test/images/c3_b2_2c_7e_29_0e_33_rot_jpeg.rf.eaf07f3fbee7e618f8f1409b6eeb4f61.jpg: 640x640 44 folds, 3.2ms\n",
      "image 15/175 /home/iseng/fmonti/cardboard_yolo/data/test/images/c3_b2_2c_7e_29_0e_41_rot_jpeg.rf.57c78d8fc9c59468bdd46c9cd61458b0.jpg: 640x640 42 folds, 3.2ms\n",
      "image 16/175 /home/iseng/fmonti/cardboard_yolo/data/test/images/c3_b3_ac_ee_20_a9_4_rot_jpeg.rf.d33e11e3e17d4d979d53ec1657d7103c.jpg: 640x640 158 folds, 3.2ms\n",
      "image 17/175 /home/iseng/fmonti/cardboard_yolo/data/test/images/c6_51_fd_3c_99_f1_1_rot_jpeg.rf.58942223284e4b87b68ba97fd833007a.jpg: 640x640 108 folds, 3.2ms\n",
      "image 18/175 /home/iseng/fmonti/cardboard_yolo/data/test/images/c8_46_4b_71_85_7b_13_rot_jpeg.rf.04d3172f6720c62cce11d4e018644fb7.jpg: 640x640 44 folds, 3.2ms\n",
      "image 19/175 /home/iseng/fmonti/cardboard_yolo/data/test/images/c8_46_4b_71_85_7b_30_rot_jpeg.rf.9b564a0cac327b26bc4b2dcf518860e8.jpg: 640x640 45 folds, 3.2ms\n",
      "image 20/175 /home/iseng/fmonti/cardboard_yolo/data/test/images/c8_53_e4_be_93_69_0_rot_jpeg.rf.fc9f30b6b5f485ae1e28af7ea52ccaec.jpg: 640x640 114 folds, 3.2ms\n",
      "image 21/175 /home/iseng/fmonti/cardboard_yolo/data/test/images/c8_86_50_b1_17_7d_0_rot_jpeg.rf.7cb27ad8b037059b2eb710b9f977d8ee.jpg: 640x640 40 folds, 3.2ms\n",
      "image 22/175 /home/iseng/fmonti/cardboard_yolo/data/test/images/c8_86_50_b1_17_7d_13_rot_jpeg.rf.fbd9cb7b779683c6700ec3b7cfeff4b9.jpg: 640x640 40 folds, 3.2ms\n",
      "image 23/175 /home/iseng/fmonti/cardboard_yolo/data/test/images/c8_86_50_b1_17_7d_14_rot_jpeg.rf.d4aaaf066df3b60592d1e868fd8e4f7d.jpg: 640x640 40 folds, 3.2ms\n",
      "image 24/175 /home/iseng/fmonti/cardboard_yolo/data/test/images/c8_86_50_b1_17_7d_15_rot_jpeg.rf.67d587b05b5843a7a58056c36f8629c0.jpg: 640x640 40 folds, 3.2ms\n",
      "image 25/175 /home/iseng/fmonti/cardboard_yolo/data/test/images/ca_60_0a_26_11_67_0_rot_jpeg.rf.89e0aa5f676560a3da34f4ae992332c5.jpg: 640x640 38 folds, 3.2ms\n",
      "image 26/175 /home/iseng/fmonti/cardboard_yolo/data/test/images/ca_60_0a_26_11_67_100_rot_jpeg.rf.13432f7355733f2bb2def458e6f8a6b7.jpg: 640x640 39 folds, 3.2ms\n",
      "image 27/175 /home/iseng/fmonti/cardboard_yolo/data/test/images/ca_60_0a_26_11_67_102_rot_jpeg.rf.e00aad22ba55ddae3723c622dc8e0c8f.jpg: 640x640 39 folds, 3.2ms\n",
      "image 28/175 /home/iseng/fmonti/cardboard_yolo/data/test/images/ca_60_0a_26_11_67_118_rot_jpeg.rf.a4886d9c787540e23785611e94aade0c.jpg: 640x640 38 folds, 3.2ms\n",
      "image 29/175 /home/iseng/fmonti/cardboard_yolo/data/test/images/ca_60_0a_26_11_67_12_rot_jpeg.rf.78bfa85f66d0726a88f21b511ced9474.jpg: 640x640 40 folds, 3.2ms\n",
      "image 30/175 /home/iseng/fmonti/cardboard_yolo/data/test/images/ca_60_0a_26_11_67_140_rot_jpeg.rf.791d8e8dda5d1b0216b1f48a6f638783.jpg: 640x640 38 folds, 3.2ms\n",
      "image 31/175 /home/iseng/fmonti/cardboard_yolo/data/test/images/ca_60_0a_26_11_67_17_rot_jpeg.rf.83ca97fc1de341b879d4668941bc3de5.jpg: 640x640 39 folds, 3.2ms\n",
      "image 32/175 /home/iseng/fmonti/cardboard_yolo/data/test/images/ca_60_0a_26_11_67_187_rot_jpeg.rf.38015feabe2d4f5821d69546006241e4.jpg: 640x640 39 folds, 3.2ms\n",
      "image 33/175 /home/iseng/fmonti/cardboard_yolo/data/test/images/ca_60_0a_26_11_67_191_rot_jpeg.rf.b15d1f672977e93531ac2fd69a59b99f.jpg: 640x640 39 folds, 3.2ms\n",
      "image 34/175 /home/iseng/fmonti/cardboard_yolo/data/test/images/ca_60_0a_26_11_67_195_rot_jpeg.rf.ed16100fa030f3fc018045c097f9f7b7.jpg: 640x640 38 folds, 3.2ms\n",
      "image 35/175 /home/iseng/fmonti/cardboard_yolo/data/test/images/ca_60_0a_26_11_67_212_rot_jpeg.rf.4647e57e0d42bfba7656e0e0c891e53c.jpg: 640x640 40 folds, 3.2ms\n",
      "image 36/175 /home/iseng/fmonti/cardboard_yolo/data/test/images/ca_60_0a_26_11_67_213_rot_jpeg.rf.f0df2dd99515b332bcbf8d9bfccbe902.jpg: 640x640 40 folds, 3.2ms\n",
      "image 37/175 /home/iseng/fmonti/cardboard_yolo/data/test/images/ca_60_0a_26_11_67_29_rot_jpeg.rf.5227169ddc48cd8d75ef2ba7b82055a4.jpg: 640x640 40 folds, 3.2ms\n",
      "image 38/175 /home/iseng/fmonti/cardboard_yolo/data/test/images/ca_60_0a_26_11_67_2_rot_jpeg.rf.771f5c33833a3bf084e15c03d6dd961f.jpg: 640x640 39 folds, 3.2ms\n",
      "image 39/175 /home/iseng/fmonti/cardboard_yolo/data/test/images/ca_60_0a_26_11_67_35_rot_jpeg.rf.406cff3d9ea6b021de8490a6dd55d5f5.jpg: 640x640 40 folds, 3.3ms\n",
      "image 40/175 /home/iseng/fmonti/cardboard_yolo/data/test/images/ca_60_0a_26_11_67_38_rot_jpeg.rf.6c33900ff0cd27a1e1d0000a4de1c1ee.jpg: 640x640 39 folds, 3.2ms\n",
      "image 41/175 /home/iseng/fmonti/cardboard_yolo/data/test/images/ca_60_0a_26_11_67_39_rot_jpeg.rf.19d5637a25fb324150129a6cea98b398.jpg: 640x640 40 folds, 3.2ms\n",
      "image 42/175 /home/iseng/fmonti/cardboard_yolo/data/test/images/ca_60_0a_26_11_67_40_rot_jpeg.rf.5a3d1174dbe7793c62ee88a4742bb8a5.jpg: 640x640 39 folds, 3.2ms\n",
      "image 43/175 /home/iseng/fmonti/cardboard_yolo/data/test/images/ca_60_0a_26_11_67_50_rot_jpeg.rf.2e128c74a6d754e571212d463220f3e9.jpg: 640x640 39 folds, 3.2ms\n",
      "image 44/175 /home/iseng/fmonti/cardboard_yolo/data/test/images/ca_60_0a_26_11_67_76_rot_jpeg.rf.84d94f6a6265b78eccc5deb69870582a.jpg: 640x640 41 folds, 3.2ms\n",
      "image 45/175 /home/iseng/fmonti/cardboard_yolo/data/test/images/ca_60_0a_26_11_67_80_rot_jpeg.rf.0b479332038b9efd6421199bd27053be.jpg: 640x640 46 folds, 3.2ms\n",
      "image 46/175 /home/iseng/fmonti/cardboard_yolo/data/test/images/ca_60_0a_26_11_67_82_rot_jpeg.rf.d57b40370c9adff9d0893ea5f7c9ed4e.jpg: 640x640 39 folds, 3.2ms\n",
      "image 47/175 /home/iseng/fmonti/cardboard_yolo/data/test/images/ca_ec_e0_45_8d_22_17_rot_jpeg.rf.25904bc9174d86d015318180ef8436f8.jpg: 640x640 44 folds, 3.2ms\n",
      "image 48/175 /home/iseng/fmonti/cardboard_yolo/data/test/images/ca_ec_e0_45_8d_22_18_rot_jpeg.rf.3a81f3b39644a309360bcc2780f0459b.jpg: 640x640 44 folds, 3.2ms\n",
      "image 49/175 /home/iseng/fmonti/cardboard_yolo/data/test/images/ca_ec_e0_45_8d_22_19_rot_jpeg.rf.de10f4261ccc1c75a595296229e82726.jpg: 640x640 44 folds, 3.2ms\n",
      "image 50/175 /home/iseng/fmonti/cardboard_yolo/data/test/images/ca_ec_e0_45_8d_22_2_rot_jpeg.rf.e69b8ea0d020d27fd9dd2c1e1a7fa5e4.jpg: 640x640 44 folds, 3.2ms\n",
      "image 51/175 /home/iseng/fmonti/cardboard_yolo/data/test/images/ca_ec_e0_45_8d_22_5_rot_jpeg.rf.0c32b55d7100da71cd38dacdffcf798d.jpg: 640x640 44 folds, 3.2ms\n",
      "image 52/175 /home/iseng/fmonti/cardboard_yolo/data/test/images/ca_ec_e0_45_8d_22_8_rot_jpeg.rf.93cf154bf479c46f83402c0663b9e6d0.jpg: 640x640 44 folds, 3.2ms\n",
      "image 53/175 /home/iseng/fmonti/cardboard_yolo/data/test/images/cd_5e_b9_6c_a2_d8_17_rot_jpeg.rf.8f6bac1e61931769aefc2230278c1fe9.jpg: 640x640 88 folds, 3.2ms\n",
      "image 54/175 /home/iseng/fmonti/cardboard_yolo/data/test/images/cd_5e_b9_6c_a2_d8_5_rot_jpeg.rf.269f77f3bcc22732c1ecdd08c036ed4f.jpg: 640x640 92 folds, 3.2ms\n",
      "image 55/175 /home/iseng/fmonti/cardboard_yolo/data/test/images/cd_5e_b9_6c_a2_d8_9_rot_jpeg.rf.2f803654a5955f1381fcdf5861b2bf01.jpg: 640x640 88 folds, 3.2ms\n",
      "image 56/175 /home/iseng/fmonti/cardboard_yolo/data/test/images/d0_5f_92_96_3a_53_14_rot_jpeg.rf.87ea9137d6c41a264cdd6bfd6ce14c3a.jpg: 640x640 53 folds, 3.2ms\n",
      "image 57/175 /home/iseng/fmonti/cardboard_yolo/data/test/images/d0_5f_92_96_3a_53_38_rot_jpeg.rf.b8711b7ee4fd137fe573dfd378bb73c7.jpg: 640x640 53 folds, 3.2ms\n",
      "image 58/175 /home/iseng/fmonti/cardboard_yolo/data/test/images/d0_5f_92_96_3a_53_43_rot_jpeg.rf.dbba83ad8b56dc7d8e5e6b3ca543eb6a.jpg: 640x640 53 folds, 3.2ms\n",
      "image 59/175 /home/iseng/fmonti/cardboard_yolo/data/test/images/d0_5f_92_96_3a_53_45_rot_jpeg.rf.564543a7e848ad427f474ed13926f9c8.jpg: 640x640 53 folds, 3.2ms\n",
      "image 60/175 /home/iseng/fmonti/cardboard_yolo/data/test/images/d0_5f_92_96_3a_53_55_rot_jpeg.rf.18ccd426695483308adeda129399441f.jpg: 640x640 53 folds, 3.2ms\n",
      "image 61/175 /home/iseng/fmonti/cardboard_yolo/data/test/images/d0_5f_92_96_3a_53_62_rot_jpeg.rf.1a04793a03707213471ca0fe7238f345.jpg: 640x640 54 folds, 3.2ms\n",
      "image 62/175 /home/iseng/fmonti/cardboard_yolo/data/test/images/d0_5f_92_96_3a_53_63_rot_jpeg.rf.481431ccaa939b5a41485ce81b6dc40f.jpg: 640x640 53 folds, 3.2ms\n",
      "image 63/175 /home/iseng/fmonti/cardboard_yolo/data/test/images/d0_5f_92_96_3a_53_8_rot_jpeg.rf.daddacf4b70d2d61c2e626c212aa22b4.jpg: 640x640 53 folds, 3.2ms\n",
      "image 64/175 /home/iseng/fmonti/cardboard_yolo/data/test/images/d1_e5_cd_98_a4_b0_6_rot_jpeg.rf.5b8cf740644e3ae19d5f8d4a3b845a04.jpg: 640x640 28 folds, 3.2ms\n",
      "image 65/175 /home/iseng/fmonti/cardboard_yolo/data/test/images/d8_66_2b_d8_ef_ba_1_rot_jpeg.rf.7188b14bcc783a72b434c6e920d8a4a1.jpg: 640x640 28 folds, 3.2ms\n",
      "image 66/175 /home/iseng/fmonti/cardboard_yolo/data/test/images/da_6f_dc_b8_b4_f6_1_rot_jpeg.rf.3666f51bab4809858811e9cd6d6c8d4e.jpg: 640x640 54 folds, 3.2ms\n",
      "image 67/175 /home/iseng/fmonti/cardboard_yolo/data/test/images/da_8f_c7_0c_06_3b_14_rot_jpeg.rf.0743e6d5d49d6e8a7d1e8ec63b60df68.jpg: 640x640 79 folds, 3.2ms\n",
      "image 68/175 /home/iseng/fmonti/cardboard_yolo/data/test/images/da_8f_c7_0c_06_3b_1_rot_jpeg.rf.88d6310b058bf160f24e9a22f21e3e61.jpg: 640x640 76 folds, 3.2ms\n",
      "image 69/175 /home/iseng/fmonti/cardboard_yolo/data/test/images/da_9c_58_f9_19_b9_15_rot_jpeg.rf.e31c709d47ef7b76fbb2c2ebebcf9f4d.jpg: 640x640 70 folds, 3.2ms\n",
      "image 70/175 /home/iseng/fmonti/cardboard_yolo/data/test/images/da_9c_58_f9_19_b9_35_rot_jpeg.rf.d08d19a5b752430c405e963dfe8e0968.jpg: 640x640 70 folds, 3.2ms\n",
      "image 71/175 /home/iseng/fmonti/cardboard_yolo/data/test/images/da_9c_58_f9_19_b9_6_rot_jpeg.rf.03d7d8757e3c5de36279eb3372a56f6a.jpg: 640x640 66 folds, 3.2ms\n",
      "image 72/175 /home/iseng/fmonti/cardboard_yolo/data/test/images/de_86_86_8e_27_42_14_rot_jpeg.rf.da7e80c48a3d0efecb6b03f196c5a9f3.jpg: 640x640 96 folds, 3.2ms\n",
      "image 73/175 /home/iseng/fmonti/cardboard_yolo/data/test/images/de_86_86_8e_27_42_20_rot_jpeg.rf.6332f3374318fd0caa9063ccce071863.jpg: 640x640 97 folds, 3.2ms\n",
      "image 74/175 /home/iseng/fmonti/cardboard_yolo/data/test/images/de_86_86_8e_27_42_3_rot_jpeg.rf.9a12913f3354904ee2cb68381812664d.jpg: 640x640 94 folds, 3.2ms\n",
      "image 75/175 /home/iseng/fmonti/cardboard_yolo/data/test/images/de_86_86_8e_27_42_9_rot_jpeg.rf.f5adf631a0b2cf600e943b4bb3b67fdf.jpg: 640x640 97 folds, 3.2ms\n",
      "image 76/175 /home/iseng/fmonti/cardboard_yolo/data/test/images/de_ed_5b_cc_d9_e4_10_rot_jpeg.rf.e231f842b88625265065bcda7cacbfb2.jpg: 640x640 40 folds, 3.2ms\n",
      "image 77/175 /home/iseng/fmonti/cardboard_yolo/data/test/images/de_ed_5b_cc_d9_e4_19_rot_jpeg.rf.d88adefbb19ba3d66ae5be91f86e52dc.jpg: 640x640 40 folds, 3.2ms\n",
      "image 78/175 /home/iseng/fmonti/cardboard_yolo/data/test/images/de_ed_5b_cc_d9_e4_4_rot_jpeg.rf.7974365c3d65fb0b1de9355628b8f451.jpg: 640x640 40 folds, 3.2ms\n",
      "image 79/175 /home/iseng/fmonti/cardboard_yolo/data/test/images/de_ed_5b_cc_d9_e4_6_rot_jpeg.rf.028a577f8cef50061a05df7f3f90f5de.jpg: 640x640 40 folds, 3.2ms\n",
      "image 80/175 /home/iseng/fmonti/cardboard_yolo/data/test/images/de_ed_5b_cc_d9_e4_9_rot_jpeg.rf.f344684aaf9e51941b4cd2cff1ae863e.jpg: 640x640 40 folds, 3.2ms\n",
      "image 81/175 /home/iseng/fmonti/cardboard_yolo/data/test/images/df_ea_e9_b2_1e_fa_100_rot_jpeg.rf.92765fff9bc73e327765861c8aed9aed.jpg: 640x640 34 folds, 3.2ms\n",
      "image 82/175 /home/iseng/fmonti/cardboard_yolo/data/test/images/df_ea_e9_b2_1e_fa_111_rot_jpeg.rf.2435e7813f35c5450825f06c8bcc9ac5.jpg: 640x640 35 folds, 3.2ms\n",
      "image 83/175 /home/iseng/fmonti/cardboard_yolo/data/test/images/df_ea_e9_b2_1e_fa_124_rot_jpeg.rf.81a60fd58fa0338c43c88b0d26ed76ff.jpg: 640x640 35 folds, 3.2ms\n",
      "image 84/175 /home/iseng/fmonti/cardboard_yolo/data/test/images/df_ea_e9_b2_1e_fa_126_rot_jpeg.rf.ecd38f287658650f091702a9679bcfaa.jpg: 640x640 35 folds, 3.2ms\n",
      "image 85/175 /home/iseng/fmonti/cardboard_yolo/data/test/images/df_ea_e9_b2_1e_fa_14_rot_jpeg.rf.28396abad88a94305debc69b1a05702a.jpg: 640x640 38 folds, 3.2ms\n",
      "image 86/175 /home/iseng/fmonti/cardboard_yolo/data/test/images/df_ea_e9_b2_1e_fa_23_rot_jpeg.rf.cdba47b20973376c1b79884a5861b1a2.jpg: 640x640 34 folds, 3.2ms\n",
      "image 87/175 /home/iseng/fmonti/cardboard_yolo/data/test/images/df_ea_e9_b2_1e_fa_24_rot_jpeg.rf.681496e951e217e2df5f8f35f5d5c963.jpg: 640x640 35 folds, 3.2ms\n",
      "image 88/175 /home/iseng/fmonti/cardboard_yolo/data/test/images/df_ea_e9_b2_1e_fa_29_rot_jpeg.rf.0c8b65d537bfe2a55c353387a231bd23.jpg: 640x640 35 folds, 3.2ms\n",
      "image 89/175 /home/iseng/fmonti/cardboard_yolo/data/test/images/df_ea_e9_b2_1e_fa_48_rot_jpeg.rf.797959cb45412a2ba9c5bdfdc39158fc.jpg: 640x640 34 folds, 3.2ms\n",
      "image 90/175 /home/iseng/fmonti/cardboard_yolo/data/test/images/df_ea_e9_b2_1e_fa_50_rot_jpeg.rf.33038fec675043ff52b803a6b94423d5.jpg: 640x640 36 folds, 3.2ms\n",
      "image 91/175 /home/iseng/fmonti/cardboard_yolo/data/test/images/df_ea_e9_b2_1e_fa_51_rot_jpeg.rf.59ac0a8a8778a8e6925e244bb469774e.jpg: 640x640 36 folds, 3.2ms\n",
      "image 92/175 /home/iseng/fmonti/cardboard_yolo/data/test/images/df_ea_e9_b2_1e_fa_61_rot_jpeg.rf.965ef9e6b6719eb4b9990b4686b83eb2.jpg: 640x640 35 folds, 3.2ms\n",
      "image 93/175 /home/iseng/fmonti/cardboard_yolo/data/test/images/df_ea_e9_b2_1e_fa_78_rot_jpeg.rf.94e5af3adcbf26379d4fc243ebc52c0a.jpg: 640x640 35 folds, 3.2ms\n",
      "image 94/175 /home/iseng/fmonti/cardboard_yolo/data/test/images/df_ea_e9_b2_1e_fa_80_rot_jpeg.rf.a238bb7d99822f2e0fec6a385db5efe0.jpg: 640x640 36 folds, 3.2ms\n",
      "image 95/175 /home/iseng/fmonti/cardboard_yolo/data/test/images/df_ea_e9_b2_1e_fa_81_rot_jpeg.rf.7184d8652283802916562228a36519d5.jpg: 640x640 34 folds, 3.2ms\n",
      "image 96/175 /home/iseng/fmonti/cardboard_yolo/data/test/images/df_ea_e9_b2_1e_fa_82_rot_jpeg.rf.04b3010fdf4be1c53371fe0c8755c736.jpg: 640x640 34 folds, 3.2ms\n",
      "image 97/175 /home/iseng/fmonti/cardboard_yolo/data/test/images/df_ea_e9_b2_1e_fa_97_rot_jpeg.rf.21bb0888dcdb0aeff3ddea321c99b0fc.jpg: 640x640 35 folds, 3.2ms\n",
      "image 98/175 /home/iseng/fmonti/cardboard_yolo/data/test/images/e1_cf_9b_63_ed_b2_4_rot_jpeg.rf.69cf2679fb126c83a7c6ceaff764e49b.jpg: 640x640 89 folds, 3.2ms\n",
      "image 99/175 /home/iseng/fmonti/cardboard_yolo/data/test/images/e2_73_e4_bd_3e_da_8_rot_jpeg.rf.ec5e911f1835e27f90c63023542766c7.jpg: 640x640 66 folds, 3.2ms\n",
      "image 100/175 /home/iseng/fmonti/cardboard_yolo/data/test/images/e4_ab_64_57_2d_f8_0_rot_jpeg.rf.93707452daa367a4942ccabfff5c3661.jpg: 640x640 44 folds, 3.2ms\n",
      "image 101/175 /home/iseng/fmonti/cardboard_yolo/data/test/images/e6_92_7a_2a_e8_53_17_rot_jpeg.rf.09a170d45edd25ae97cef83f7cd905fb.jpg: 640x640 112 folds, 3.2ms\n",
      "image 102/175 /home/iseng/fmonti/cardboard_yolo/data/test/images/e9_33_a5_2c_39_14_0_rot_jpeg.rf.16de71ae8e929b21db8a09124c86b5fa.jpg: 640x640 146 folds, 3.2ms\n",
      "image 103/175 /home/iseng/fmonti/cardboard_yolo/data/test/images/e9_33_a5_2c_39_14_15_rot_jpeg.rf.fcf7db045b5b95c3434bfe76c136fd87.jpg: 640x640 150 folds, 3.2ms\n",
      "image 104/175 /home/iseng/fmonti/cardboard_yolo/data/test/images/eb_41_99_60_73_03_15_rot_jpeg.rf.3e61fdee8c1020fa60d8a5e5cca363f3.jpg: 640x640 47 folds, 3.2ms\n",
      "image 105/175 /home/iseng/fmonti/cardboard_yolo/data/test/images/eb_41_99_60_73_03_21_rot_jpeg.rf.53f4e7fd8dfa33b531591a52dfee7306.jpg: 640x640 48 folds, 3.2ms\n",
      "image 106/175 /home/iseng/fmonti/cardboard_yolo/data/test/images/eb_41_99_60_73_03_59_rot_jpeg.rf.a24020426f7b54d5b1d0d69aa6365159.jpg: 640x640 49 folds, 3.2ms\n",
      "image 107/175 /home/iseng/fmonti/cardboard_yolo/data/test/images/eb_41_99_60_73_03_65_rot_jpeg.rf.a57ae447952913faf3eec1991282a0dc.jpg: 640x640 49 folds, 3.2ms\n",
      "image 108/175 /home/iseng/fmonti/cardboard_yolo/data/test/images/eb_41_99_60_73_03_66_rot_jpeg.rf.05f584f80cf4a5ee3e7a21811f6edc27.jpg: 640x640 48 folds, 3.2ms\n",
      "image 109/175 /home/iseng/fmonti/cardboard_yolo/data/test/images/eb_41_99_60_73_03_68_rot_jpeg.rf.696e436803c1255cac67db4e5fd018cc.jpg: 640x640 47 folds, 3.2ms\n",
      "image 110/175 /home/iseng/fmonti/cardboard_yolo/data/test/images/eb_41_99_60_73_03_89_rot_jpeg.rf.e3f7361f772650e81e4c46ecd0dc2958.jpg: 640x640 47 folds, 3.2ms\n",
      "image 111/175 /home/iseng/fmonti/cardboard_yolo/data/test/images/eb_41_99_60_73_03_9_rot_jpeg.rf.cea2975387892832bad4b1c4fe0d1e17.jpg: 640x640 47 folds, 3.2ms\n",
      "image 112/175 /home/iseng/fmonti/cardboard_yolo/data/test/images/ec_02_45_2f_66_74_1_rot_jpeg.rf.c16f1c9d01b4ac23a3dac24b1a4cd642.jpg: 640x640 256 folds, 3.2ms\n",
      "image 113/175 /home/iseng/fmonti/cardboard_yolo/data/test/images/ec_df_54_94_85_38_0_rot_jpeg.rf.8a559989e2ead5eefcbbaf9751f97c23.jpg: 640x640 28 folds, 3.3ms\n",
      "image 114/175 /home/iseng/fmonti/cardboard_yolo/data/test/images/ed_f8_7f_fd_d6_70_8_rot_jpeg.rf.972d7db37946335373b9bf1f2987de2c.jpg: 640x640 123 folds, 3.2ms\n",
      "image 115/175 /home/iseng/fmonti/cardboard_yolo/data/test/images/ee_1e_dc_6d_d0_b7_24_rot_jpeg.rf.3e26e6fec9ff7a78dd88508e8d19c235.jpg: 640x640 60 folds, 3.2ms\n",
      "image 116/175 /home/iseng/fmonti/cardboard_yolo/data/test/images/ee_1e_dc_6d_d0_b7_28_rot_jpeg.rf.49cb6c3f0befc9676adc4ccdb0e97ec7.jpg: 640x640 60 folds, 3.2ms\n",
      "image 117/175 /home/iseng/fmonti/cardboard_yolo/data/test/images/ee_1e_dc_6d_d0_b7_32_rot_jpeg.rf.e1565476d6e830dec97c2ae52daae3ae.jpg: 640x640 60 folds, 3.2ms\n",
      "image 118/175 /home/iseng/fmonti/cardboard_yolo/data/test/images/ee_1e_dc_6d_d0_b7_33_rot_jpeg.rf.3c217de6f92db7e87c0308f08df78b04.jpg: 640x640 60 folds, 3.2ms\n",
      "image 119/175 /home/iseng/fmonti/cardboard_yolo/data/test/images/ee_1e_dc_6d_d0_b7_7_rot_jpeg.rf.1e289270a8123d787dd63670b7e5dc3a.jpg: 640x640 60 folds, 3.2ms\n",
      "image 120/175 /home/iseng/fmonti/cardboard_yolo/data/test/images/ee_df_2f_f5_e9_6e_7_rot_jpeg.rf.580e3cb371e0e92dc13741979998b602.jpg: 640x640 150 folds, 3.2ms\n",
      "image 121/175 /home/iseng/fmonti/cardboard_yolo/data/test/images/ee_fb_87_ad_47_19_12_rot_jpeg.rf.fbe4c889a342fac4c22833a502482add.jpg: 640x640 46 folds, 3.2ms\n",
      "image 122/175 /home/iseng/fmonti/cardboard_yolo/data/test/images/ee_fb_87_ad_47_19_19_rot_jpeg.rf.83add5d14646d9ad6ada24a259e62299.jpg: 640x640 47 folds, 3.2ms\n",
      "image 123/175 /home/iseng/fmonti/cardboard_yolo/data/test/images/ee_fb_87_ad_47_19_26_rot_jpeg.rf.24341793b172605cd7a407a4f9e4e349.jpg: 640x640 46 folds, 3.2ms\n",
      "image 124/175 /home/iseng/fmonti/cardboard_yolo/data/test/images/ef_49_73_c7_f9_ed_1_rot_jpeg.rf.46682f73bc332db51aea0e2c8daad09f.jpg: 640x640 30 folds, 3.2ms\n",
      "image 125/175 /home/iseng/fmonti/cardboard_yolo/data/test/images/ef_f0_22_2f_ab_11_16_rot_jpeg.rf.14d02cc5dcf849b3c73821b9a02d6282.jpg: 640x640 144 folds, 3.2ms\n",
      "image 126/175 /home/iseng/fmonti/cardboard_yolo/data/test/images/ef_f0_22_2f_ab_11_17_rot_jpeg.rf.22940eddfa4f7f4371ba6690e58415d3.jpg: 640x640 146 folds, 3.2ms\n",
      "image 127/175 /home/iseng/fmonti/cardboard_yolo/data/test/images/ef_f0_22_2f_ab_11_2_rot_jpeg.rf.a17a9a1dfe583751325fb819f14abe53.jpg: 640x640 139 folds, 3.2ms\n",
      "image 128/175 /home/iseng/fmonti/cardboard_yolo/data/test/images/ef_f0_22_2f_ab_11_33_rot_jpeg.rf.b3539cd52e13dc4a865b4915ab43c9b8.jpg: 640x640 148 folds, 3.2ms\n",
      "image 129/175 /home/iseng/fmonti/cardboard_yolo/data/test/images/ef_f0_22_2f_ab_11_40_rot_jpeg.rf.483969d3f2fee801b97c6e28c31ac4df.jpg: 640x640 144 folds, 3.2ms\n",
      "image 130/175 /home/iseng/fmonti/cardboard_yolo/data/test/images/ef_f0_22_2f_ab_11_48_rot_jpeg.rf.fb065219b1811f0b91e816543bafdd34.jpg: 640x640 145 folds, 3.2ms\n",
      "image 131/175 /home/iseng/fmonti/cardboard_yolo/data/test/images/ef_f0_22_2f_ab_11_50_rot_jpeg.rf.58dd73abd4c265df6c5712631c51e5a5.jpg: 640x640 145 folds, 3.2ms\n",
      "image 132/175 /home/iseng/fmonti/cardboard_yolo/data/test/images/ef_f0_22_2f_ab_11_5_rot_jpeg.rf.16ccf1ab7e84517dfe0e1863fea43f45.jpg: 640x640 137 folds, 3.2ms\n",
      "image 133/175 /home/iseng/fmonti/cardboard_yolo/data/test/images/ef_f0_22_2f_ab_11_c_16_rot_jpeg.rf.fcf14c885e782caf2bf96f3627519e5f.jpg: 640x640 148 folds, 3.2ms\n",
      "image 134/175 /home/iseng/fmonti/cardboard_yolo/data/test/images/ef_f0_22_2f_ab_11_c_18_rot_jpeg.rf.2ce7a46bbf16c94a032c60ef50d51a99.jpg: 640x640 148 folds, 3.2ms\n",
      "image 135/175 /home/iseng/fmonti/cardboard_yolo/data/test/images/ef_f0_22_2f_ab_11_c_22_rot_jpeg.rf.e23cd77a23a4a58ec0493ed145f9e37c.jpg: 640x640 144 folds, 3.2ms\n",
      "image 136/175 /home/iseng/fmonti/cardboard_yolo/data/test/images/ef_f0_22_2f_ab_11_c_32_rot_jpeg.rf.919e96da8914a14652fedf81f3e86262.jpg: 640x640 148 folds, 3.2ms\n",
      "image 137/175 /home/iseng/fmonti/cardboard_yolo/data/test/images/ef_f0_22_2f_ab_11_c_41_rot_jpeg.rf.af47e3f5274e622bde130dc42a53700c.jpg: 640x640 150 folds, 3.2ms\n",
      "image 138/175 /home/iseng/fmonti/cardboard_yolo/data/test/images/ef_f0_22_2f_ab_11_c_50_rot_jpeg.rf.7ad45d80d8a44aa8ec7f4db7668e7595.jpg: 640x640 145 folds, 3.2ms\n",
      "image 139/175 /home/iseng/fmonti/cardboard_yolo/data/test/images/f1_5f_63_69_6b_ef_8_rot_jpeg.rf.7696a439df9ab5eae23aa3a1c49bf7f0.jpg: 640x640 48 folds, 3.2ms\n",
      "image 140/175 /home/iseng/fmonti/cardboard_yolo/data/test/images/f3_f8_fa_8b_b7_76_13_rot_jpeg.rf.7544c7322eafa2951e0ed67d16291081.jpg: 640x640 145 folds, 3.3ms\n",
      "image 141/175 /home/iseng/fmonti/cardboard_yolo/data/test/images/f3_f8_fa_8b_b7_76_26_rot_jpeg.rf.781cee67de5d476ba8afa62a6b67b81c.jpg: 640x640 140 folds, 3.2ms\n",
      "image 142/175 /home/iseng/fmonti/cardboard_yolo/data/test/images/f3_f8_fa_8b_b7_76_28_rot_jpeg.rf.1a5c001c2e1804c236fb7a47e8cc00ec.jpg: 640x640 144 folds, 3.2ms\n",
      "image 143/175 /home/iseng/fmonti/cardboard_yolo/data/test/images/f3_f8_fa_8b_b7_76_4_rot_jpeg.rf.0f039ac6bc063fc111996b99059db9ed.jpg: 640x640 153 folds, 3.2ms\n",
      "image 144/175 /home/iseng/fmonti/cardboard_yolo/data/test/images/f5_13_08_a6_01_ce_15_rot_jpeg.rf.9602f973154d5402403d2933d0f2fc9c.jpg: 640x640 40 folds, 3.2ms\n",
      "image 145/175 /home/iseng/fmonti/cardboard_yolo/data/test/images/f5_13_08_a6_01_ce_1_rot_jpeg.rf.fc0fa9131837e3022da2daa16abd6dc2.jpg: 640x640 40 folds, 3.2ms\n",
      "image 146/175 /home/iseng/fmonti/cardboard_yolo/data/test/images/f5_13_08_a6_01_ce_21_rot_jpeg.rf.7805119c0feeadc8dcc1d3346849226e.jpg: 640x640 40 folds, 3.2ms\n",
      "image 147/175 /home/iseng/fmonti/cardboard_yolo/data/test/images/f5_13_08_a6_01_ce_34_rot_jpeg.rf.b03aa13d82137cb9ba302ffc04f7aa0f.jpg: 640x640 40 folds, 3.2ms\n",
      "image 148/175 /home/iseng/fmonti/cardboard_yolo/data/test/images/f5_13_08_a6_01_ce_3_rot_jpeg.rf.fac582d97d19cf42165fc28a2174088f.jpg: 640x640 40 folds, 3.2ms\n",
      "image 149/175 /home/iseng/fmonti/cardboard_yolo/data/test/images/f5_13_08_a6_01_ce_57_rot_jpeg.rf.5f8d2ac33ca83772a7eea469ac758652.jpg: 640x640 41 folds, 3.2ms\n",
      "image 150/175 /home/iseng/fmonti/cardboard_yolo/data/test/images/f5_13_08_a6_01_ce_69_rot_jpeg.rf.77661a024b059b845f62d6dabc268deb.jpg: 640x640 40 folds, 3.2ms\n",
      "image 151/175 /home/iseng/fmonti/cardboard_yolo/data/test/images/f5_ce_af_aa_d1_ce_19_rot_jpeg.rf.a9cd3e2c7139097771a284552b06960c.jpg: 640x640 137 folds, 3.2ms\n",
      "image 152/175 /home/iseng/fmonti/cardboard_yolo/data/test/images/f5_ce_af_aa_d1_ce_24_rot_jpeg.rf.d0c1459dddc5ffc4318137cb94d1167b.jpg: 640x640 129 folds, 3.2ms\n",
      "image 153/175 /home/iseng/fmonti/cardboard_yolo/data/test/images/f8_18_38_7d_e8_97_5_rot_jpeg.rf.c98a6a441a20de778ab948d04a30aa4e.jpg: 640x640 166 folds, 3.3ms\n",
      "image 154/175 /home/iseng/fmonti/cardboard_yolo/data/test/images/f9_b1_d9_e8_09_55_1_rot_jpeg.rf.81658c22a93a88707526699512f2f7b7.jpg: 640x640 40 folds, 3.2ms\n",
      "image 155/175 /home/iseng/fmonti/cardboard_yolo/data/test/images/f9_ba_e4_73_19_bc_6_rot_jpeg.rf.84042ac79b592e271f5029176f6c62ba.jpg: 640x640 65 folds, 3.2ms\n",
      "image 156/175 /home/iseng/fmonti/cardboard_yolo/data/test/images/fa_08_f7_4c_39_1c_26_rot_jpeg.rf.60faf993325d7b6cd56ffecc4c83459b.jpg: 640x640 37 folds, 3.2ms\n",
      "image 157/175 /home/iseng/fmonti/cardboard_yolo/data/test/images/fa_08_f7_4c_39_1c_30_rot_jpeg.rf.57cb00c63d214f74a7bc8b07771dd662.jpg: 640x640 34 folds, 3.2ms\n",
      "image 158/175 /home/iseng/fmonti/cardboard_yolo/data/test/images/fe_d8_46_c3_73_3e_4_rot_jpeg.rf.dc90d25a5857beaac364fc2de5d4967a.jpg: 640x640 66 folds, 3.2ms\n",
      "image 159/175 /home/iseng/fmonti/cardboard_yolo/data/test/images/ff_1a_43_c8_f5_2f_15_rot_jpeg.rf.2805ce8052272744b8d3dae2615355fb.jpg: 640x640 47 folds, 3.2ms\n",
      "image 160/175 /home/iseng/fmonti/cardboard_yolo/data/test/images/ff_1a_43_c8_f5_2f_18_rot_jpeg.rf.d61a39917a4d37e321c21cb70941efb8.jpg: 640x640 46 folds, 3.2ms\n",
      "image 161/175 /home/iseng/fmonti/cardboard_yolo/data/test/images/ff_1a_43_c8_f5_2f_19_rot_jpeg.rf.a6cc71860abd5d1d46b6254e0794d52d.jpg: 640x640 47 folds, 3.2ms\n",
      "image 162/175 /home/iseng/fmonti/cardboard_yolo/data/test/images/ff_1a_43_c8_f5_2f_30_rot_jpeg.rf.9756a3043f0f4646afc05b4cd49010fb.jpg: 640x640 46 folds, 3.2ms\n",
      "image 163/175 /home/iseng/fmonti/cardboard_yolo/data/test/images/image122_jpeg.rf.206ad8ba60d1764b7d5e7d46798cda51.jpg: 640x640 (no detections), 3.2ms\n",
      "image 164/175 /home/iseng/fmonti/cardboard_yolo/data/test/images/image123_jpeg.rf.b95a09239eeeaf20b31c33a8468ff318.jpg: 640x640 (no detections), 3.2ms\n",
      "image 165/175 /home/iseng/fmonti/cardboard_yolo/data/test/images/image130_jpeg.rf.42516d09fdff9dc651be723d88c92b5d.jpg: 640x640 (no detections), 3.2ms\n",
      "image 166/175 /home/iseng/fmonti/cardboard_yolo/data/test/images/image132_jpeg.rf.b5796ce6c839e8aff6bac32130e0cb02.jpg: 640x640 (no detections), 3.2ms\n",
      "image 167/175 /home/iseng/fmonti/cardboard_yolo/data/test/images/image147_jpeg.rf.6d3d0c62f56ce715f7c3efbc4aa8707d.jpg: 640x640 (no detections), 3.2ms\n",
      "image 168/175 /home/iseng/fmonti/cardboard_yolo/data/test/images/image157_jpeg.rf.bb0035cb29635bcd0476ffee59238c38.jpg: 640x640 (no detections), 3.2ms\n",
      "image 169/175 /home/iseng/fmonti/cardboard_yolo/data/test/images/image15_jpeg.rf.b40fad0f3ad0ba76eced0a1b16f09432.jpg: 640x640 (no detections), 3.2ms\n",
      "image 170/175 /home/iseng/fmonti/cardboard_yolo/data/test/images/image58_jpeg.rf.8917186a98dad67b827759dbe30c9df6.jpg: 640x640 (no detections), 3.2ms\n",
      "image 171/175 /home/iseng/fmonti/cardboard_yolo/data/test/images/image69_jpeg.rf.0497d5bb5899531b23821879f867d07c.jpg: 640x640 (no detections), 3.2ms\n",
      "image 172/175 /home/iseng/fmonti/cardboard_yolo/data/test/images/image82_jpeg.rf.41734afe238ce2ec76710d2ead5813d8.jpg: 640x640 (no detections), 3.2ms\n",
      "image 173/175 /home/iseng/fmonti/cardboard_yolo/data/test/images/image89_jpeg.rf.4c4aa4b5e65814a61994650e7e5452dd.jpg: 640x640 (no detections), 3.2ms\n",
      "image 174/175 /home/iseng/fmonti/cardboard_yolo/data/test/images/image92_jpeg.rf.c9beddd329599f90a7e667e69ec0089b.jpg: 640x640 (no detections), 3.2ms\n",
      "image 175/175 /home/iseng/fmonti/cardboard_yolo/data/test/images/producer_check_100524070520763434_rot_jpeg.rf.2497e40e0f2dbbcee056301dfae2a1bc.jpg: 640x640 78 folds, 3.2ms\n",
      "Speed: 0.2ms pre-process, 3.2ms inference, 1.9ms NMS per image at shape (1, 3, 640, 640)\n",
      "Results saved to \u001b[1mruns/detect/exp\u001b[0m\n",
      "163 labels saved to runs/detect/exp/labels\n"
     ]
    }
   ],
   "source": [
    "!python3 detect.py --weights runs/train/exp2/weights/best.pt --img 640 --source ../data/test/images --line-thickness 1 --save-txt"
   ]
  },
  {
   "cell_type": "code",
   "execution_count": 15,
   "metadata": {
    "id": "3-mQWxhfPRQE",
    "outputId": "62120a2a-a624-49ed-fae6-f9a62aa38777"
   },
   "outputs": [],
   "source": [
    "#display inference on ALL test images\n",
    "#this looks much better with longer training above\n",
    "\n",
    "import glob\n",
    "from IPython.display import Image, display\n",
    "\n",
    "for imageName in glob.glob('runs/detect/exp/*.jpeg'): #assuming JPG\n",
    "    display(Image(filename=imageName))\n",
    "    print(\"\\n\")"
   ]
  },
  {
   "cell_type": "markdown",
   "metadata": {},
   "source": [
    "# Test inference"
   ]
  },
  {
   "cell_type": "code",
   "execution_count": 20,
   "metadata": {},
   "outputs": [
    {
     "name": "stdout",
     "output_type": "stream",
     "text": [
      "\u001b[34m\u001b[1mdetect: \u001b[0mweights=['runs/train/exp2/weights/best.pt'], source=./../cartone_edit_rot.png, data=data/coco128.yaml, imgsz=[640, 640], conf_thres=0.6, iou_thres=0.45, max_det=1000, device=, view_img=False, save_txt=True, save_csv=False, save_conf=False, save_crop=False, nosave=False, classes=None, agnostic_nms=False, augment=False, visualize=False, update=False, project=runs/detect, name=exp, exist_ok=False, line_thickness=1, hide_labels=False, hide_conf=False, half=False, dnn=False, vid_stride=1\n",
      "YOLOv5 🚀 v7.0-321-g3742ab49 Python-3.10.14 torch-2.3.1+cu121 CUDA:0 (NVIDIA GeForce RTX 3090, 24252MiB)\n",
      "\n",
      "Fusing layers... \n",
      "Model summary: 157 layers, 7012822 parameters, 0 gradients, 15.8 GFLOPs\n",
      "image 1/1 /home/iseng/fmonti/cardboard_yolo/cartone_edit_rot.png: 640x640 2 folds, 3.2ms\n",
      "Speed: 0.2ms pre-process, 3.2ms inference, 258.8ms NMS per image at shape (1, 3, 640, 640)\n",
      "Results saved to \u001b[1mruns/detect/exp5\u001b[0m\n",
      "1 labels saved to runs/detect/exp5/labels\n"
     ]
    }
   ],
   "source": [
    "!python3 detect.py --weights runs/train/exp2/weights/best.pt --img 640 --conf 0.6 --source ./../cartone_edit_rot.png --line-thickness 1 --save-txt"
   ]
  }
 ],
 "metadata": {
  "kernelspec": {
   "display_name": "Python 3 (ipykernel)",
   "language": "python",
   "name": "python3"
  },
  "language_info": {
   "codemirror_mode": {
    "name": "ipython",
    "version": 3
   },
   "file_extension": ".py",
   "mimetype": "text/x-python",
   "name": "python",
   "nbconvert_exporter": "python",
   "pygments_lexer": "ipython3",
   "version": "3.10.14"
  }
 },
 "nbformat": 4,
 "nbformat_minor": 4
}
