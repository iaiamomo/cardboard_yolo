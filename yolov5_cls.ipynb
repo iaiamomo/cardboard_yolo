{
 "cells": [
  {
   "cell_type": "code",
   "execution_count": 1,
   "id": "b8de43cb-8606-4379-bc37-45aef2715660",
   "metadata": {},
   "outputs": [],
   "source": [
    "%load_ext autoreload\n",
    "%autoreload 2\n",
    "    \n",
    "# Necessary/extra dependencies. \n",
    "import shutil\n",
    "\n",
    "#customize iPython writefile so we can write variables\n",
    "from IPython.core.magic import register_line_cell_magic\n",
    "\n",
    "@register_line_cell_magic\n",
    "def writetemplate(line, cell):\n",
    "    with open(line, 'w') as f:\n",
    "        f.write(cell.format(**globals()))\n",
    "\n",
    "dataset = \"classification/dataset_fold_cls\"\n",
    "!cd yolov5"
   ]
  },
  {
   "cell_type": "code",
   "execution_count": 2,
   "id": "bb789870-c5a4-4cc1-bf81-22f246905fca",
   "metadata": {},
   "outputs": [
    {
     "name": "stdout",
     "output_type": "stream",
     "text": [
      "/home/calcio/cardboard_yolo/yolov5\n",
      "/home/calcio/cardboard_yolo/yolov5\n"
     ]
    }
   ],
   "source": [
    "%cd yolov5\n",
    "!pwd"
   ]
  },
  {
   "cell_type": "code",
   "execution_count": 3,
   "id": "c08281ea-f88f-48e4-b6db-b33d5f77b6ea",
   "metadata": {},
   "outputs": [
    {
     "name": "stdout",
     "output_type": "stream",
     "text": [
      "['n-cls', 's-cls', 'm-cls']\n"
     ]
    }
   ],
   "source": [
    "from utils.downloads import attempt_download\n",
    "p5 = ['n', 's', 'm']\n",
    "cls = [f'{x}-cls' for x in p5]\n",
    "for x in cls:\n",
    "    attempt_download(f'weights/yolov5{x}.pt')"
   ]
  },
  {
   "cell_type": "code",
   "execution_count": 8,
   "id": "874aecef-96cd-460a-bfa5-dfe14207015a",
   "metadata": {
    "scrolled": true
   },
   "outputs": [
    {
     "name": "stdout",
     "output_type": "stream",
     "text": [
      "\u001b[34m\u001b[1mclassify/train: \u001b[0mmodel=yolov5n-cls.pt, data=dataset_hole_cls, epochs=2, batch_size=16, imgsz=640, nosave=False, cache=ram, device=, workers=8, project=runs/train-cls, name=exp, exist_ok=False, pretrained=weights/yolov5n-cls.pt, optimizer=Adam, lr0=0.001, decay=5e-05, label_smoothing=0.1, cutoff=None, dropout=None, verbose=False, seed=0, local_rank=-1\n",
      "\u001b[34m\u001b[1mgithub: \u001b[0m⚠️ YOLOv5 is out of date by 8 commits. Use 'git pull' or 'git clone https://github.com/ultralytics/yolov5' to update.\n",
      "YOLOv5 🚀 v7.0-326-gec331cbd Python-3.10.14 torch-2.3.1+cu121 CUDA:0 (NVIDIA GeForce RTX 4090, 24210MiB)\n",
      "\n",
      "\u001b[34m\u001b[1mTensorBoard: \u001b[0mStart with 'tensorboard --logdir runs/train-cls', view at http://localhost:6006/\n",
      "\u001b[34m\u001b[1mClearML: \u001b[0mWARNING ⚠️ ClearML is installed but not configured, skipping ClearML logging. See https://docs.ultralytics.com/yolov5/tutorials/clearml_logging_integration\n",
      "\u001b[34m\u001b[1malbumentations: \u001b[0m⚠️ not found, install with `pip install albumentations` (recommended)\n",
      "Model summary: 149 layers, 1213281 parameters, 1213281 gradients, 3.0 GFLOPs\n",
      "\u001b[34m\u001b[1moptimizer:\u001b[0m Adam(lr=0.001) with parameter groups 32 weight(decay=0.0), 33 weight(decay=5e-05), 33 bias\n",
      "Image sizes 640 train, 640 test\n",
      "Using 8 dataloader workers\n",
      "Logging results to \u001b[1mruns/train-cls/exp7\u001b[0m\n",
      "Starting yolov5n-cls.pt training on dataset_hole_cls dataset with 1 classes for 2 epochs...\n",
      "\n",
      "     Epoch   GPU_mem  train_loss   test_loss    top1_acc    top5_acc\n",
      "       1/2     1.39G           0                                    :  27%|██▋  \n",
      "Traceback (most recent call last):\n",
      "  File \"/home/calcio/cardboard_yolo/yolov5/classify/train.py\", line 381, in <module>\n",
      "    main(opt)\n",
      "  File \"/home/calcio/cardboard_yolo/yolov5/classify/train.py\", line 363, in main\n",
      "    train(opt, device)\n",
      "  File \"/home/calcio/cardboard_yolo/yolov5/classify/train.py\", line 229, in train\n",
      "    torch.nn.utils.clip_grad_norm_(model.parameters(), max_norm=10.0)  # clip gradients\n",
      "  File \"/home/calcio/miniconda3/envs/prova/lib/python3.10/site-packages/torch/nn/utils/clip_grad.py\", line 20, in _no_grad_wrapper\n",
      "    return func(*args, **kwargs)\n",
      "  File \"/home/calcio/miniconda3/envs/prova/lib/python3.10/site-packages/torch/nn/utils/clip_grad.py\", line 52, in clip_grad_norm_\n",
      "    grads = [p.grad for p in parameters if p.grad is not None]\n",
      "  File \"/home/calcio/miniconda3/envs/prova/lib/python3.10/site-packages/torch/nn/utils/clip_grad.py\", line 52, in <listcomp>\n",
      "    grads = [p.grad for p in parameters if p.grad is not None]\n",
      "  File \"/home/calcio/miniconda3/envs/prova/lib/python3.10/site-packages/torch/nn/modules/module.py\", line 2229, in parameters\n",
      "    for name, param in self.named_parameters(recurse=recurse):\n",
      "  File \"/home/calcio/miniconda3/envs/prova/lib/python3.10/site-packages/torch/nn/modules/module.py\", line 2262, in named_parameters\n",
      "    yield from gen\n",
      "  File \"/home/calcio/miniconda3/envs/prova/lib/python3.10/site-packages/torch/nn/modules/module.py\", line 2197, in _named_members\n",
      "    for module_prefix, module in modules:\n",
      "  File \"/home/calcio/miniconda3/envs/prova/lib/python3.10/site-packages/torch/nn/modules/module.py\", line 2409, in named_modules\n",
      "    yield from module.named_modules(memo, submodule_prefix, remove_duplicate)\n",
      "  File \"/home/calcio/miniconda3/envs/prova/lib/python3.10/site-packages/torch/nn/modules/module.py\", line 2409, in named_modules\n",
      "    yield from module.named_modules(memo, submodule_prefix, remove_duplicate)\n",
      "  File \"/home/calcio/miniconda3/envs/prova/lib/python3.10/site-packages/torch/nn/modules/module.py\", line 2409, in named_modules\n",
      "    yield from module.named_modules(memo, submodule_prefix, remove_duplicate)\n",
      "  [Previous line repeated 1 more time]\n",
      "  File \"/home/calcio/miniconda3/envs/prova/lib/python3.10/site-packages/torch/utils/data/_utils/signal_handling.py\", line 66, in handler\n",
      "    _error_if_any_worker_fails()\n",
      "RuntimeError: DataLoader worker (pid 12391) is killed by signal: Killed. \n",
      "Exception in thread Thread-1 (_pin_memory_loop):\n",
      "Traceback (most recent call last):\n",
      "  File \"/home/calcio/miniconda3/envs/prova/lib/python3.10/threading.py\", line 1016, in _bootstrap_inner\n",
      "    self.run()\n",
      "  File \"/home/calcio/miniconda3/envs/prova/lib/python3.10/threading.py\", line 953, in run\n",
      "    self._target(*self._args, **self._kwargs)\n",
      "  File \"/home/calcio/miniconda3/envs/prova/lib/python3.10/site-packages/torch/utils/data/_utils/pin_memory.py\", line 54, in _pin_memory_loop\n",
      "    do_one_step()\n",
      "  File \"/home/calcio/miniconda3/envs/prova/lib/python3.10/site-packages/torch/utils/data/_utils/pin_memory.py\", line 31, in do_one_step\n",
      "    r = in_queue.get(timeout=MP_STATUS_CHECK_INTERVAL)\n",
      "  File \"/home/calcio/miniconda3/envs/prova/lib/python3.10/multiprocessing/queues.py\", line 122, in get\n",
      "    return _ForkingPickler.loads(res)\n",
      "  File \"/home/calcio/miniconda3/envs/prova/lib/python3.10/site-packages/torch/multiprocessing/reductions.py\", line 495, in rebuild_storage_fd\n",
      "    fd = df.detach()\n",
      "  File \"/home/calcio/miniconda3/envs/prova/lib/python3.10/multiprocessing/resource_sharer.py\", line 57, in detach\n",
      "    with _resource_sharer.get_connection(self._id) as conn:\n",
      "  File \"/home/calcio/miniconda3/envs/prova/lib/python3.10/multiprocessing/resource_sharer.py\", line 86, in get_connection\n",
      "    c = Client(address, authkey=process.current_process().authkey)\n",
      "  File \"/home/calcio/miniconda3/envs/prova/lib/python3.10/multiprocessing/connection.py\", line 508, in Client\n",
      "    answer_challenge(c, authkey)\n",
      "  File \"/home/calcio/miniconda3/envs/prova/lib/python3.10/multiprocessing/connection.py\", line 752, in answer_challenge\n",
      "    message = connection.recv_bytes(256)         # reject large message\n",
      "  File \"/home/calcio/miniconda3/envs/prova/lib/python3.10/multiprocessing/connection.py\", line 216, in recv_bytes\n",
      "    buf = self._recv_bytes(maxlength)\n",
      "  File \"/home/calcio/miniconda3/envs/prova/lib/python3.10/multiprocessing/connection.py\", line 414, in _recv_bytes\n",
      "    buf = self._recv(4)\n",
      "  File \"/home/calcio/miniconda3/envs/prova/lib/python3.10/multiprocessing/connection.py\", line 379, in _recv\n",
      "    chunk = read(handle, remaining)\n",
      "ConnectionResetError: [Errno 104] Connection reset by peer\n"
     ]
    }
   ],
   "source": [
    "!python3 classify/train.py --model yolov5n-cls.pt --img 640 --batch 16 --epochs 2 --data dataset_hole_cls --pretrained weights/yolov5n-cls.pt --cache"
   ]
  },
  {
   "cell_type": "code",
   "execution_count": 9,
   "id": "f3012516-7710-4edd-bc98-e67f89bc8537",
   "metadata": {},
   "outputs": [
    {
     "data": {
      "text/plain": [
       "True"
      ]
     },
     "execution_count": 9,
     "metadata": {},
     "output_type": "execute_result"
    }
   ],
   "source": [
    "import torch\n",
    "torch.cuda.is_available()"
   ]
  }
 ],
 "metadata": {
  "kernelspec": {
   "display_name": "Python 3 (ipykernel)",
   "language": "python",
   "name": "python3"
  },
  "language_info": {
   "codemirror_mode": {
    "name": "ipython",
    "version": 3
   },
   "file_extension": ".py",
   "mimetype": "text/x-python",
   "name": "python",
   "nbconvert_exporter": "python",
   "pygments_lexer": "ipython3",
   "version": "3.10.14"
  }
 },
 "nbformat": 4,
 "nbformat_minor": 5
}
