{
 "cells": [
  {
   "cell_type": "code",
   "execution_count": 2,
   "id": "a345a444-009b-434d-818d-2e264fba656c",
   "metadata": {},
   "outputs": [
    {
     "name": "stdout",
     "output_type": "stream",
     "text": [
      "KW2GX2IN2YCKZLNTUSDH\n",
      "OjO23n5avatAGjlAEkMjeyQrEZnW1ejOz600Z4JcKdcNttGDjO\n"
     ]
    }
   ],
   "source": [
    "%load_ext autoreload\n",
    "%autoreload 2\n",
    "\n",
    "from ultralytics import YOLO\n",
    "\n",
    "# Necessary/extra dependencies. \n",
    "import shutil\n",
    "\n",
    "#customize iPython writefile so we can write variables\n",
    "from IPython.core.magic import register_line_cell_magic\n",
    "\n",
    "@register_line_cell_magic\n",
    "def writetemplate(line, cell):\n",
    "    with open(line, 'w') as f:\n",
    "        f.write(cell.format(**globals()))\n",
    "\n",
    "# ClearML\n",
    "from clearml import Task\n",
    "import dotenv\n",
    "dotenv.load_dotenv()\n",
    "!echo $CLEARML_API_ACCESS_KEY\n",
    "!echo $CLEARML_API_SECRET_KEY"
   ]
  },
  {
   "cell_type": "code",
   "execution_count": null,
   "id": "3f8eb949-c4f9-4ea0-9178-f74c7ab08613",
   "metadata": {
    "scrolled": true
   },
   "outputs": [
    {
     "name": "stdout",
     "output_type": "stream",
     "text": [
      "/home/calcio/cardboard_yolo/yolov8\n",
      "ClearML Task: created new task id=de7631a1f55f49da908c78b0ee09e3bf\n",
      "2024-07-01 16:31:22,605 - clearml.Repository Detection - WARNING - Jupyter Notebook auto-logging failed, could not access: /home/calcio/cardboard_yolo/yolov8/yolov8.ipynb\n",
      "2024-07-01 16:31:22,622 - clearml.Task - INFO - Storing jupyter notebook directly as code\n",
      "ClearML results page: https://app.clear.ml/projects/eafb95ff2c1c455c8c281edacf8408b7/experiments/de7631a1f55f49da908c78b0ee09e3bf/output/log\n",
      "Ultralytics YOLOv8.2.48 🚀 Python-3.10.14 torch-2.3.1+cu121 CUDA:0 (NVIDIA GeForce RTX 4090, 24210MiB)\n",
      "\u001b[34m\u001b[1mengine/trainer: \u001b[0mtask=classify, mode=train, model=yolov8n-cls.pt, data=/home/calcio/cardboard_yolo/classification/dataset_all, epochs=400, time=None, patience=30, batch=16, imgsz=640, save=True, save_period=-1, cache=False, device=None, workers=8, project=None, name=train, exist_ok=False, pretrained=True, optimizer=SGD, verbose=True, seed=0, deterministic=True, single_cls=False, rect=False, cos_lr=False, close_mosaic=10, resume=False, amp=True, fraction=1.0, profile=False, freeze=None, multi_scale=False, overlap_mask=True, mask_ratio=4, dropout=0.0, val=True, split=val, save_json=False, save_hybrid=False, conf=None, iou=0.7, max_det=300, half=False, dnn=False, plots=True, source=None, vid_stride=1, stream_buffer=False, visualize=False, augment=False, agnostic_nms=False, classes=None, retina_masks=False, embed=None, show=False, save_frames=False, save_txt=False, save_conf=False, save_crop=False, show_labels=True, show_conf=True, show_boxes=True, line_width=None, format=torchscript, keras=False, optimize=False, int8=False, dynamic=False, simplify=False, opset=None, workspace=4, nms=False, lr0=0.01, lrf=0.01, momentum=0.937, weight_decay=0.0005, warmup_epochs=3.0, warmup_momentum=0.8, warmup_bias_lr=0.1, box=7.5, cls=0.5, dfl=1.5, pose=12.0, kobj=1.0, label_smoothing=0.0, nbs=64, hsv_h=0.015, hsv_s=0.7, hsv_v=0.4, degrees=0.0, translate=0.1, scale=0.5, shear=0.0, perspective=0.0, flipud=0.0, fliplr=0.5, bgr=0.0, mosaic=1.0, mixup=0.0, copy_paste=0.0, auto_augment=randaugment, erasing=0.4, crop_fraction=1.0, cfg=None, tracker=botsort.yaml, save_dir=runs/classify/train\n",
      "\u001b[34m\u001b[1mtrain:\u001b[0m /home/calcio/cardboard_yolo/classification/dataset_all/train... found 297680 images in 2 classes ✅ \n",
      "\u001b[34m\u001b[1mval:\u001b[0m /home/calcio/cardboard_yolo/classification/dataset_all/val... found 204427 images in 2 classes ✅ \n",
      "\u001b[34m\u001b[1mtest:\u001b[0m /home/calcio/cardboard_yolo/classification/dataset_all/test... found 262864 images in 2 classes ✅ \n",
      "Overriding model.yaml nc=1000 with nc=2\n",
      "\n",
      "                   from  n    params  module                                       arguments                     \n",
      "  0                  -1  1       464  ultralytics.nn.modules.conv.Conv             [3, 16, 3, 2]                 \n",
      "  1                  -1  1      4672  ultralytics.nn.modules.conv.Conv             [16, 32, 3, 2]                \n",
      "  2                  -1  1      7360  ultralytics.nn.modules.block.C2f             [32, 32, 1, True]             \n",
      "  3                  -1  1     18560  ultralytics.nn.modules.conv.Conv             [32, 64, 3, 2]                \n",
      "  4                  -1  2     49664  ultralytics.nn.modules.block.C2f             [64, 64, 2, True]             \n",
      "  5                  -1  1     73984  ultralytics.nn.modules.conv.Conv             [64, 128, 3, 2]               \n",
      "  6                  -1  2    197632  ultralytics.nn.modules.block.C2f             [128, 128, 2, True]           \n",
      "  7                  -1  1    295424  ultralytics.nn.modules.conv.Conv             [128, 256, 3, 2]              \n",
      "  8                  -1  1    460288  ultralytics.nn.modules.block.C2f             [256, 256, 1, True]           \n",
      "  9                  -1  1    332802  ultralytics.nn.modules.head.Classify         [256, 2]                      \n",
      "YOLOv8n-cls summary: 99 layers, 1440850 parameters, 1440850 gradients, 3.4 GFLOPs\n",
      "Transferred 156/158 items from pretrained weights\n",
      "\u001b[34m\u001b[1mAMP: \u001b[0mrunning Automatic Mixed Precision (AMP) checks with YOLOv8n...\n",
      "\u001b[34m\u001b[1mAMP: \u001b[0mchecks passed ✅\n"
     ]
    },
    {
     "name": "stderr",
     "output_type": "stream",
     "text": [
      "\u001b[34m\u001b[1mtrain: \u001b[0mScanning /home/calcio/cardboard_yolo/classification/dataset_all/train... 297680 images, 0 \u001b[0m\n"
     ]
    },
    {
     "name": "stdout",
     "output_type": "stream",
     "text": [
      "\u001b[34m\u001b[1mtrain: \u001b[0mNew cache created: /home/calcio/cardboard_yolo/classification/dataset_all/train.cache\n"
     ]
    },
    {
     "name": "stderr",
     "output_type": "stream",
     "text": [
      "\u001b[34m\u001b[1mval: \u001b[0mScanning /home/calcio/cardboard_yolo/classification/dataset_all/val... 204427 images, 0 corr\u001b[0m\n"
     ]
    },
    {
     "name": "stdout",
     "output_type": "stream",
     "text": [
      "\u001b[34m\u001b[1mval: \u001b[0mNew cache created: /home/calcio/cardboard_yolo/classification/dataset_all/val.cache\n",
      "\u001b[34m\u001b[1moptimizer:\u001b[0m SGD(lr=0.01, momentum=0.937) with parameter groups 26 weight(decay=0.0), 27 weight(decay=0.0005), 27 bias(decay=0.0)\n",
      "Image sizes 640 train, 640 val\n",
      "Using 8 dataloader workers\n",
      "Logging results to \u001b[1mruns/classify/train\u001b[0m\n",
      "Starting training for 400 epochs...\n",
      "\n",
      "      Epoch    GPU_mem       loss  Instances       Size\n"
     ]
    },
    {
     "name": "stderr",
     "output_type": "stream",
     "text": [
      "      1/400      1.44G      0.704         16        640:  17%|█▋        | 3111/18605 [01:42<08:30"
     ]
    },
    {
     "name": "stdout",
     "output_type": "stream",
     "text": [
      "ClearML Monitor: Could not detect iteration reporting, falling back to iterations as seconds-from-start\n"
     ]
    },
    {
     "name": "stderr",
     "output_type": "stream",
     "text": [
      "      1/400      1.45G     0.7123         16        640: 100%|██████████| 18605/18605 [10:07<00:0\n",
      "               classes   top1_acc   top5_acc: 100%|██████████| 6389/6389 [06:06<00:00, 17.44it/s]"
     ]
    },
    {
     "name": "stdout",
     "output_type": "stream",
     "text": [
      "                   all      0.505          1\n"
     ]
    },
    {
     "name": "stderr",
     "output_type": "stream",
     "text": [
      "\n"
     ]
    },
    {
     "name": "stdout",
     "output_type": "stream",
     "text": [
      "\n",
      "      Epoch    GPU_mem       loss  Instances       Size\n"
     ]
    },
    {
     "name": "stderr",
     "output_type": "stream",
     "text": [
      "      2/400      1.44G     0.6995         16        640: 100%|██████████| 18605/18605 [09:58<00:0\n",
      "               classes   top1_acc   top5_acc: 100%|██████████| 6389/6389 [05:57<00:00, 17.85it/s]"
     ]
    },
    {
     "name": "stdout",
     "output_type": "stream",
     "text": [
      "                   all      0.496          1\n"
     ]
    },
    {
     "name": "stderr",
     "output_type": "stream",
     "text": [
      "\n"
     ]
    },
    {
     "name": "stdout",
     "output_type": "stream",
     "text": [
      "\n",
      "      Epoch    GPU_mem       loss  Instances       Size\n"
     ]
    },
    {
     "name": "stderr",
     "output_type": "stream",
     "text": [
      "      3/400      1.44G     0.6966         16        640: 100%|██████████| 18605/18605 [09:55<00:0\n",
      "               classes   top1_acc   top5_acc: 100%|██████████| 6389/6389 [05:55<00:00, 17.96it/s]\n"
     ]
    },
    {
     "name": "stdout",
     "output_type": "stream",
     "text": [
      "                   all      0.499          1\n",
      "\n",
      "      Epoch    GPU_mem       loss  Instances       Size\n"
     ]
    },
    {
     "name": "stderr",
     "output_type": "stream",
     "text": [
      "      4/400      1.44G     0.6951         16        640:  56%|█████▋    | 10481/18605 [05:33<04:1"
     ]
    }
   ],
   "source": [
    "%cd /home/calcio/cardboard_yolo/yolov8\n",
    "dataset = \"dataset_all\"\n",
    "dim = \"n\"\n",
    "run_res = \"0\"\n",
    "\n",
    "task = Task.init(project_name='classification', task_name=f\"{dataset} - {dim} - {run_res}\", tags=[dim, dataset, 'yolov8'])\n",
    "model = YOLO(f'yolov8{dim}-cls.pt')\n",
    "model.train(data=f\"/home/calcio/cardboard_yolo/classification/{dataset}\", epochs=400, batch=16, imgsz=640, patience=30, optimizer='SGD')\n",
    "task.close()"
   ]
  },
  {
   "cell_type": "code",
   "execution_count": 4,
   "id": "8167669a-ac3f-4aae-b6cb-b394c386748f",
   "metadata": {},
   "outputs": [],
   "source": [
    "run = \"train\"#6\"\n",
    "model = YOLO(f\"/home/calcio/cardboard_yolo/yolov8/runs/classify/{run}/weights/best.pt\")"
   ]
  },
  {
   "cell_type": "code",
   "execution_count": 9,
   "id": "426c936e-b72b-40e6-aaab-a906d4be5400",
   "metadata": {},
   "outputs": [
    {
     "name": "stdout",
     "output_type": "stream",
     "text": [
      "\n",
      "image 1/1 /home/calcio/cardboard_yolo/cartone_edit_hole.png: 640x640 fold 1.00, 1.1ms\n",
      "Speed: 4.6ms preprocess, 1.1ms inference, 0.0ms postprocess per image at shape (1, 3, 640, 640)\n"
     ]
    }
   ],
   "source": [
    "results = model.predict(\"/home/calcio/cardboard_yolo/cartone_edit_hole.png\", save=False, imgsz=640, conf=0.6)\n",
    "from PIL import Image\n",
    "im_array = results[0].plot()\n",
    "im = Image.fromarray(im_array[..., ::-1])\n",
    "im.show()"
   ]
  }
 ],
 "metadata": {
  "kernelspec": {
   "display_name": "Python 3 (ipykernel)",
   "language": "python",
   "name": "python3"
  },
  "language_info": {
   "codemirror_mode": {
    "name": "ipython",
    "version": 3
   },
   "file_extension": ".py",
   "mimetype": "text/x-python",
   "name": "python",
   "nbconvert_exporter": "python",
   "pygments_lexer": "ipython3",
   "version": "3.10.14"
  }
 },
 "nbformat": 4,
 "nbformat_minor": 5
}
